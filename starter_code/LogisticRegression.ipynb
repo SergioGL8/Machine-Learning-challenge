{
 "metadata": {
  "language_info": {
   "codemirror_mode": {
    "name": "ipython",
    "version": 3
   },
   "file_extension": ".py",
   "mimetype": "text/x-python",
   "name": "python",
   "nbconvert_exporter": "python",
   "pygments_lexer": "ipython3",
   "version": "3.7.6-final"
  },
  "orig_nbformat": 2,
  "kernelspec": {
   "name": "python3",
   "display_name": "Python 3",
   "language": "python"
  }
 },
 "nbformat": 4,
 "nbformat_minor": 2,
 "cells": [
  {
   "cell_type": "code",
   "execution_count": 1,
   "metadata": {},
   "outputs": [
    {
     "output_type": "stream",
     "name": "stdout",
     "text": [
      "Requirement already up-to-date: sklearn in c:\\users\\propietario\\anaconda3\\lib\\site-packages (0.0)\nRequirement already satisfied, skipping upgrade: scikit-learn in c:\\users\\propietario\\anaconda3\\lib\\site-packages (from sklearn) (0.22.1)\nRequirement already satisfied, skipping upgrade: scipy>=0.17.0 in c:\\users\\propietario\\anaconda3\\lib\\site-packages (from scikit-learn->sklearn) (1.4.1)\nRequirement already satisfied, skipping upgrade: numpy>=1.11.0 in c:\\users\\propietario\\anaconda3\\lib\\site-packages (from scikit-learn->sklearn) (1.18.1)\nRequirement already satisfied, skipping upgrade: joblib>=0.11 in c:\\users\\propietario\\anaconda3\\lib\\site-packages (from scikit-learn->sklearn) (0.14.1)\n"
     ]
    }
   ],
   "source": [
    "# Update sklearn to prevent version mismatches\n",
    "!pip install sklearn --upgrade"
   ]
  },
  {
   "cell_type": "code",
   "execution_count": 2,
   "metadata": {},
   "outputs": [
    {
     "output_type": "stream",
     "name": "stdout",
     "text": [
      "Requirement already satisfied: joblib in c:\\users\\propietario\\anaconda3\\lib\\site-packages (0.14.1)\n"
     ]
    }
   ],
   "source": [
    "# install joblib. This will be used to save your model. \n",
    "# Restart your kernel after installing \n",
    "!pip install joblib"
   ]
  },
  {
   "cell_type": "code",
   "execution_count": 3,
   "metadata": {},
   "outputs": [],
   "source": [
    "import pandas as pd"
   ]
  },
  {
   "source": [
    "# Read the CSV and Perform Basic Data Cleaning"
   ],
   "cell_type": "markdown",
   "metadata": {}
  },
  {
   "cell_type": "code",
   "execution_count": 5,
   "metadata": {},
   "outputs": [
    {
     "output_type": "execute_result",
     "data": {
      "text/plain": [
       "  koi_disposition  koi_fpflag_nt  koi_fpflag_ss  koi_fpflag_co  koi_fpflag_ec  \\\n",
       "0       CONFIRMED              0              0              0              0   \n",
       "1  FALSE POSITIVE              0              1              0              0   \n",
       "2  FALSE POSITIVE              0              1              0              0   \n",
       "3       CONFIRMED              0              0              0              0   \n",
       "4       CONFIRMED              0              0              0              0   \n",
       "\n",
       "   koi_period  koi_period_err1  koi_period_err2  koi_time0bk  \\\n",
       "0   54.418383     2.479000e-04    -2.479000e-04   162.513840   \n",
       "1   19.899140     1.490000e-05    -1.490000e-05   175.850252   \n",
       "2    1.736952     2.630000e-07    -2.630000e-07   170.307565   \n",
       "3    2.525592     3.760000e-06    -3.760000e-06   171.595550   \n",
       "4    4.134435     1.050000e-05    -1.050000e-05   172.979370   \n",
       "\n",
       "   koi_time0bk_err1  ...  koi_steff_err2  koi_slogg  koi_slogg_err1  \\\n",
       "0          0.003520  ...             -81      4.467           0.064   \n",
       "1          0.000581  ...            -176      4.544           0.044   \n",
       "2          0.000115  ...            -174      4.564           0.053   \n",
       "3          0.001130  ...            -211      4.438           0.070   \n",
       "4          0.001900  ...            -232      4.486           0.054   \n",
       "\n",
       "   koi_slogg_err2  koi_srad  koi_srad_err1  koi_srad_err2         ra  \\\n",
       "0          -0.096     0.927          0.105         -0.061  291.93423   \n",
       "1          -0.176     0.868          0.233         -0.078  297.00482   \n",
       "2          -0.168     0.791          0.201         -0.067  285.53461   \n",
       "3          -0.210     1.046          0.334         -0.133  288.75488   \n",
       "4          -0.229     0.972          0.315         -0.105  296.28613   \n",
       "\n",
       "         dec  koi_kepmag  \n",
       "0  48.141651      15.347  \n",
       "1  48.134129      15.436  \n",
       "2  48.285210      15.597  \n",
       "3  48.226200      15.509  \n",
       "4  48.224670      15.714  \n",
       "\n",
       "[5 rows x 41 columns]"
      ],
      "text/html": "<div>\n<style scoped>\n    .dataframe tbody tr th:only-of-type {\n        vertical-align: middle;\n    }\n\n    .dataframe tbody tr th {\n        vertical-align: top;\n    }\n\n    .dataframe thead th {\n        text-align: right;\n    }\n</style>\n<table border=\"1\" class=\"dataframe\">\n  <thead>\n    <tr style=\"text-align: right;\">\n      <th></th>\n      <th>koi_disposition</th>\n      <th>koi_fpflag_nt</th>\n      <th>koi_fpflag_ss</th>\n      <th>koi_fpflag_co</th>\n      <th>koi_fpflag_ec</th>\n      <th>koi_period</th>\n      <th>koi_period_err1</th>\n      <th>koi_period_err2</th>\n      <th>koi_time0bk</th>\n      <th>koi_time0bk_err1</th>\n      <th>...</th>\n      <th>koi_steff_err2</th>\n      <th>koi_slogg</th>\n      <th>koi_slogg_err1</th>\n      <th>koi_slogg_err2</th>\n      <th>koi_srad</th>\n      <th>koi_srad_err1</th>\n      <th>koi_srad_err2</th>\n      <th>ra</th>\n      <th>dec</th>\n      <th>koi_kepmag</th>\n    </tr>\n  </thead>\n  <tbody>\n    <tr>\n      <th>0</th>\n      <td>CONFIRMED</td>\n      <td>0</td>\n      <td>0</td>\n      <td>0</td>\n      <td>0</td>\n      <td>54.418383</td>\n      <td>2.479000e-04</td>\n      <td>-2.479000e-04</td>\n      <td>162.513840</td>\n      <td>0.003520</td>\n      <td>...</td>\n      <td>-81</td>\n      <td>4.467</td>\n      <td>0.064</td>\n      <td>-0.096</td>\n      <td>0.927</td>\n      <td>0.105</td>\n      <td>-0.061</td>\n      <td>291.93423</td>\n      <td>48.141651</td>\n      <td>15.347</td>\n    </tr>\n    <tr>\n      <th>1</th>\n      <td>FALSE POSITIVE</td>\n      <td>0</td>\n      <td>1</td>\n      <td>0</td>\n      <td>0</td>\n      <td>19.899140</td>\n      <td>1.490000e-05</td>\n      <td>-1.490000e-05</td>\n      <td>175.850252</td>\n      <td>0.000581</td>\n      <td>...</td>\n      <td>-176</td>\n      <td>4.544</td>\n      <td>0.044</td>\n      <td>-0.176</td>\n      <td>0.868</td>\n      <td>0.233</td>\n      <td>-0.078</td>\n      <td>297.00482</td>\n      <td>48.134129</td>\n      <td>15.436</td>\n    </tr>\n    <tr>\n      <th>2</th>\n      <td>FALSE POSITIVE</td>\n      <td>0</td>\n      <td>1</td>\n      <td>0</td>\n      <td>0</td>\n      <td>1.736952</td>\n      <td>2.630000e-07</td>\n      <td>-2.630000e-07</td>\n      <td>170.307565</td>\n      <td>0.000115</td>\n      <td>...</td>\n      <td>-174</td>\n      <td>4.564</td>\n      <td>0.053</td>\n      <td>-0.168</td>\n      <td>0.791</td>\n      <td>0.201</td>\n      <td>-0.067</td>\n      <td>285.53461</td>\n      <td>48.285210</td>\n      <td>15.597</td>\n    </tr>\n    <tr>\n      <th>3</th>\n      <td>CONFIRMED</td>\n      <td>0</td>\n      <td>0</td>\n      <td>0</td>\n      <td>0</td>\n      <td>2.525592</td>\n      <td>3.760000e-06</td>\n      <td>-3.760000e-06</td>\n      <td>171.595550</td>\n      <td>0.001130</td>\n      <td>...</td>\n      <td>-211</td>\n      <td>4.438</td>\n      <td>0.070</td>\n      <td>-0.210</td>\n      <td>1.046</td>\n      <td>0.334</td>\n      <td>-0.133</td>\n      <td>288.75488</td>\n      <td>48.226200</td>\n      <td>15.509</td>\n    </tr>\n    <tr>\n      <th>4</th>\n      <td>CONFIRMED</td>\n      <td>0</td>\n      <td>0</td>\n      <td>0</td>\n      <td>0</td>\n      <td>4.134435</td>\n      <td>1.050000e-05</td>\n      <td>-1.050000e-05</td>\n      <td>172.979370</td>\n      <td>0.001900</td>\n      <td>...</td>\n      <td>-232</td>\n      <td>4.486</td>\n      <td>0.054</td>\n      <td>-0.229</td>\n      <td>0.972</td>\n      <td>0.315</td>\n      <td>-0.105</td>\n      <td>296.28613</td>\n      <td>48.224670</td>\n      <td>15.714</td>\n    </tr>\n  </tbody>\n</table>\n<p>5 rows × 41 columns</p>\n</div>"
     },
     "metadata": {},
     "execution_count": 5
    }
   ],
   "source": [
    "df = pd.read_csv(\"exoplanet_data.csv\")\n",
    "# Drop the null columns where all values are null\n",
    "df = df.dropna(axis='columns', how='all')\n",
    "# Drop the null rows\n",
    "df = df.dropna()\n",
    "df.head()"
   ]
  },
  {
   "cell_type": "code",
   "execution_count": 7,
   "metadata": {},
   "outputs": [
    {
     "output_type": "execute_result",
     "data": {
      "text/plain": [
       "Index(['koi_disposition', 'koi_fpflag_nt', 'koi_fpflag_ss', 'koi_fpflag_co',\n",
       "       'koi_fpflag_ec', 'koi_period', 'koi_period_err1', 'koi_period_err2',\n",
       "       'koi_time0bk', 'koi_time0bk_err1', 'koi_time0bk_err2', 'koi_impact',\n",
       "       'koi_impact_err1', 'koi_impact_err2', 'koi_duration',\n",
       "       'koi_duration_err1', 'koi_duration_err2', 'koi_depth', 'koi_depth_err1',\n",
       "       'koi_depth_err2', 'koi_prad', 'koi_prad_err1', 'koi_prad_err2',\n",
       "       'koi_teq', 'koi_insol', 'koi_insol_err1', 'koi_insol_err2',\n",
       "       'koi_model_snr', 'koi_tce_plnt_num', 'koi_steff', 'koi_steff_err1',\n",
       "       'koi_steff_err2', 'koi_slogg', 'koi_slogg_err1', 'koi_slogg_err2',\n",
       "       'koi_srad', 'koi_srad_err1', 'koi_srad_err2', 'ra', 'dec',\n",
       "       'koi_kepmag'],\n",
       "      dtype='object')"
      ]
     },
     "metadata": {},
     "execution_count": 7
    }
   ],
   "source": [
    "df.keys()"
   ]
  },
  {
   "source": [
    "# Select your features (columns)"
   ],
   "cell_type": "markdown",
   "metadata": {}
  },
  {
   "cell_type": "code",
   "execution_count": 8,
   "metadata": {},
   "outputs": [
    {
     "output_type": "execute_result",
     "data": {
      "text/plain": [
       "   koi_fpflag_nt  koi_fpflag_ss  koi_fpflag_co  koi_fpflag_ec  koi_period  \\\n",
       "0              0              0              0              0   54.418383   \n",
       "1              0              1              0              0   19.899140   \n",
       "2              0              1              0              0    1.736952   \n",
       "3              0              0              0              0    2.525592   \n",
       "4              0              0              0              0    4.134435   \n",
       "\n",
       "   koi_period_err1  koi_period_err2  koi_time0bk  koi_time0bk_err1  \\\n",
       "0     2.479000e-04    -2.479000e-04   162.513840          0.003520   \n",
       "1     1.490000e-05    -1.490000e-05   175.850252          0.000581   \n",
       "2     2.630000e-07    -2.630000e-07   170.307565          0.000115   \n",
       "3     3.760000e-06    -3.760000e-06   171.595550          0.001130   \n",
       "4     1.050000e-05    -1.050000e-05   172.979370          0.001900   \n",
       "\n",
       "   koi_time0bk_err2  ...  koi_steff_err2  koi_slogg  koi_slogg_err1  \\\n",
       "0         -0.003520  ...             -81      4.467           0.064   \n",
       "1         -0.000581  ...            -176      4.544           0.044   \n",
       "2         -0.000115  ...            -174      4.564           0.053   \n",
       "3         -0.001130  ...            -211      4.438           0.070   \n",
       "4         -0.001900  ...            -232      4.486           0.054   \n",
       "\n",
       "   koi_slogg_err2  koi_srad  koi_srad_err1  koi_srad_err2         ra  \\\n",
       "0          -0.096     0.927          0.105         -0.061  291.93423   \n",
       "1          -0.176     0.868          0.233         -0.078  297.00482   \n",
       "2          -0.168     0.791          0.201         -0.067  285.53461   \n",
       "3          -0.210     1.046          0.334         -0.133  288.75488   \n",
       "4          -0.229     0.972          0.315         -0.105  296.28613   \n",
       "\n",
       "         dec  koi_kepmag  \n",
       "0  48.141651      15.347  \n",
       "1  48.134129      15.436  \n",
       "2  48.285210      15.597  \n",
       "3  48.226200      15.509  \n",
       "4  48.224670      15.714  \n",
       "\n",
       "[5 rows x 40 columns]"
      ],
      "text/html": "<div>\n<style scoped>\n    .dataframe tbody tr th:only-of-type {\n        vertical-align: middle;\n    }\n\n    .dataframe tbody tr th {\n        vertical-align: top;\n    }\n\n    .dataframe thead th {\n        text-align: right;\n    }\n</style>\n<table border=\"1\" class=\"dataframe\">\n  <thead>\n    <tr style=\"text-align: right;\">\n      <th></th>\n      <th>koi_fpflag_nt</th>\n      <th>koi_fpflag_ss</th>\n      <th>koi_fpflag_co</th>\n      <th>koi_fpflag_ec</th>\n      <th>koi_period</th>\n      <th>koi_period_err1</th>\n      <th>koi_period_err2</th>\n      <th>koi_time0bk</th>\n      <th>koi_time0bk_err1</th>\n      <th>koi_time0bk_err2</th>\n      <th>...</th>\n      <th>koi_steff_err2</th>\n      <th>koi_slogg</th>\n      <th>koi_slogg_err1</th>\n      <th>koi_slogg_err2</th>\n      <th>koi_srad</th>\n      <th>koi_srad_err1</th>\n      <th>koi_srad_err2</th>\n      <th>ra</th>\n      <th>dec</th>\n      <th>koi_kepmag</th>\n    </tr>\n  </thead>\n  <tbody>\n    <tr>\n      <th>0</th>\n      <td>0</td>\n      <td>0</td>\n      <td>0</td>\n      <td>0</td>\n      <td>54.418383</td>\n      <td>2.479000e-04</td>\n      <td>-2.479000e-04</td>\n      <td>162.513840</td>\n      <td>0.003520</td>\n      <td>-0.003520</td>\n      <td>...</td>\n      <td>-81</td>\n      <td>4.467</td>\n      <td>0.064</td>\n      <td>-0.096</td>\n      <td>0.927</td>\n      <td>0.105</td>\n      <td>-0.061</td>\n      <td>291.93423</td>\n      <td>48.141651</td>\n      <td>15.347</td>\n    </tr>\n    <tr>\n      <th>1</th>\n      <td>0</td>\n      <td>1</td>\n      <td>0</td>\n      <td>0</td>\n      <td>19.899140</td>\n      <td>1.490000e-05</td>\n      <td>-1.490000e-05</td>\n      <td>175.850252</td>\n      <td>0.000581</td>\n      <td>-0.000581</td>\n      <td>...</td>\n      <td>-176</td>\n      <td>4.544</td>\n      <td>0.044</td>\n      <td>-0.176</td>\n      <td>0.868</td>\n      <td>0.233</td>\n      <td>-0.078</td>\n      <td>297.00482</td>\n      <td>48.134129</td>\n      <td>15.436</td>\n    </tr>\n    <tr>\n      <th>2</th>\n      <td>0</td>\n      <td>1</td>\n      <td>0</td>\n      <td>0</td>\n      <td>1.736952</td>\n      <td>2.630000e-07</td>\n      <td>-2.630000e-07</td>\n      <td>170.307565</td>\n      <td>0.000115</td>\n      <td>-0.000115</td>\n      <td>...</td>\n      <td>-174</td>\n      <td>4.564</td>\n      <td>0.053</td>\n      <td>-0.168</td>\n      <td>0.791</td>\n      <td>0.201</td>\n      <td>-0.067</td>\n      <td>285.53461</td>\n      <td>48.285210</td>\n      <td>15.597</td>\n    </tr>\n    <tr>\n      <th>3</th>\n      <td>0</td>\n      <td>0</td>\n      <td>0</td>\n      <td>0</td>\n      <td>2.525592</td>\n      <td>3.760000e-06</td>\n      <td>-3.760000e-06</td>\n      <td>171.595550</td>\n      <td>0.001130</td>\n      <td>-0.001130</td>\n      <td>...</td>\n      <td>-211</td>\n      <td>4.438</td>\n      <td>0.070</td>\n      <td>-0.210</td>\n      <td>1.046</td>\n      <td>0.334</td>\n      <td>-0.133</td>\n      <td>288.75488</td>\n      <td>48.226200</td>\n      <td>15.509</td>\n    </tr>\n    <tr>\n      <th>4</th>\n      <td>0</td>\n      <td>0</td>\n      <td>0</td>\n      <td>0</td>\n      <td>4.134435</td>\n      <td>1.050000e-05</td>\n      <td>-1.050000e-05</td>\n      <td>172.979370</td>\n      <td>0.001900</td>\n      <td>-0.001900</td>\n      <td>...</td>\n      <td>-232</td>\n      <td>4.486</td>\n      <td>0.054</td>\n      <td>-0.229</td>\n      <td>0.972</td>\n      <td>0.315</td>\n      <td>-0.105</td>\n      <td>296.28613</td>\n      <td>48.224670</td>\n      <td>15.714</td>\n    </tr>\n  </tbody>\n</table>\n<p>5 rows × 40 columns</p>\n</div>"
     },
     "metadata": {},
     "execution_count": 8
    }
   ],
   "source": [
    "# Set features. This will also be used as your x values.\n",
    "X = df.drop('koi_disposition', axis=1)\n",
    "X.head()"
   ]
  },
  {
   "source": [
    "# Create a Train Test Split\n",
    "\n",
    "Use koi_disposition for the y values"
   ],
   "cell_type": "markdown",
   "metadata": {}
  },
  {
   "cell_type": "code",
   "execution_count": 9,
   "metadata": {},
   "outputs": [
    {
     "output_type": "execute_result",
     "data": {
      "text/plain": [
       "array([1, 2, 2, ..., 0, 2, 2])"
      ]
     },
     "metadata": {},
     "execution_count": 9
    }
   ],
   "source": [
    "from sklearn.preprocessing import LabelEncoder\n",
    "label_encoder = LabelEncoder()\n",
    "\n",
    "label_encoder.fit(df[\"koi_disposition\"])\n",
    "label_encoder.classes_\n",
    "\n",
    "y = label_encoder.transform(df[\"koi_disposition\"])\n",
    "y"
   ]
  },
  {
   "cell_type": "code",
   "execution_count": 10,
   "metadata": {},
   "outputs": [],
   "source": [
    "from sklearn.model_selection import train_test_split\n",
    "X_train, X_test, y_train, y_test = train_test_split(X,y, random_state=42)"
   ]
  },
  {
   "cell_type": "code",
   "execution_count": 11,
   "metadata": {},
   "outputs": [
    {
     "output_type": "execute_result",
     "data": {
      "text/plain": [
       "      koi_fpflag_nt  koi_fpflag_ss  koi_fpflag_co  koi_fpflag_ec  koi_period  \\\n",
       "6122              0              0              0              0    6.768901   \n",
       "6370              0              1              0              1    0.733726   \n",
       "2879              1              0              0              0    7.652707   \n",
       "107               0              0              0              0    7.953547   \n",
       "29                0              0              0              0    4.959319   \n",
       "\n",
       "      koi_period_err1  koi_period_err2  koi_time0bk  koi_time0bk_err1  \\\n",
       "6122     7.380000e-05    -7.380000e-05   133.077240          0.008440   \n",
       "6370     6.060000e-06    -6.060000e-06   132.020050          0.007950   \n",
       "2879     6.540000e-05    -6.540000e-05   134.460380          0.006190   \n",
       "107      1.910000e-05    -1.910000e-05   174.662240          0.001820   \n",
       "29       5.150000e-07    -5.150000e-07   172.258529          0.000083   \n",
       "\n",
       "      koi_time0bk_err2  ...  koi_steff_err2  koi_slogg  koi_slogg_err1  \\\n",
       "6122         -0.008440  ...            -171      4.327           0.153   \n",
       "6370         -0.007950  ...            -175      4.578           0.033   \n",
       "2879         -0.006190  ...            -189      4.481           0.050   \n",
       "107          -0.001820  ...             -85      4.536           0.056   \n",
       "29           -0.000083  ...             -77      4.359           0.110   \n",
       "\n",
       "      koi_slogg_err2  koi_srad  koi_srad_err1  koi_srad_err2         ra  \\\n",
       "6122          -0.187     1.125          0.310         -0.207  294.40472   \n",
       "6370          -0.187     0.797          0.211         -0.056  284.50391   \n",
       "2879          -0.200     0.963          0.290         -0.097  295.50211   \n",
       "107           -0.016     0.779          0.023         -0.049  291.15878   \n",
       "29            -0.110     1.082          0.173         -0.130  292.16705   \n",
       "\n",
       "            dec  koi_kepmag  \n",
       "6122  39.351681      14.725  \n",
       "6370  42.463860      15.770  \n",
       "2879  38.983540      13.099  \n",
       "107   40.750271      15.660  \n",
       "29    48.727589      15.263  \n",
       "\n",
       "[5 rows x 40 columns]"
      ],
      "text/html": "<div>\n<style scoped>\n    .dataframe tbody tr th:only-of-type {\n        vertical-align: middle;\n    }\n\n    .dataframe tbody tr th {\n        vertical-align: top;\n    }\n\n    .dataframe thead th {\n        text-align: right;\n    }\n</style>\n<table border=\"1\" class=\"dataframe\">\n  <thead>\n    <tr style=\"text-align: right;\">\n      <th></th>\n      <th>koi_fpflag_nt</th>\n      <th>koi_fpflag_ss</th>\n      <th>koi_fpflag_co</th>\n      <th>koi_fpflag_ec</th>\n      <th>koi_period</th>\n      <th>koi_period_err1</th>\n      <th>koi_period_err2</th>\n      <th>koi_time0bk</th>\n      <th>koi_time0bk_err1</th>\n      <th>koi_time0bk_err2</th>\n      <th>...</th>\n      <th>koi_steff_err2</th>\n      <th>koi_slogg</th>\n      <th>koi_slogg_err1</th>\n      <th>koi_slogg_err2</th>\n      <th>koi_srad</th>\n      <th>koi_srad_err1</th>\n      <th>koi_srad_err2</th>\n      <th>ra</th>\n      <th>dec</th>\n      <th>koi_kepmag</th>\n    </tr>\n  </thead>\n  <tbody>\n    <tr>\n      <th>6122</th>\n      <td>0</td>\n      <td>0</td>\n      <td>0</td>\n      <td>0</td>\n      <td>6.768901</td>\n      <td>7.380000e-05</td>\n      <td>-7.380000e-05</td>\n      <td>133.077240</td>\n      <td>0.008440</td>\n      <td>-0.008440</td>\n      <td>...</td>\n      <td>-171</td>\n      <td>4.327</td>\n      <td>0.153</td>\n      <td>-0.187</td>\n      <td>1.125</td>\n      <td>0.310</td>\n      <td>-0.207</td>\n      <td>294.40472</td>\n      <td>39.351681</td>\n      <td>14.725</td>\n    </tr>\n    <tr>\n      <th>6370</th>\n      <td>0</td>\n      <td>1</td>\n      <td>0</td>\n      <td>1</td>\n      <td>0.733726</td>\n      <td>6.060000e-06</td>\n      <td>-6.060000e-06</td>\n      <td>132.020050</td>\n      <td>0.007950</td>\n      <td>-0.007950</td>\n      <td>...</td>\n      <td>-175</td>\n      <td>4.578</td>\n      <td>0.033</td>\n      <td>-0.187</td>\n      <td>0.797</td>\n      <td>0.211</td>\n      <td>-0.056</td>\n      <td>284.50391</td>\n      <td>42.463860</td>\n      <td>15.770</td>\n    </tr>\n    <tr>\n      <th>2879</th>\n      <td>1</td>\n      <td>0</td>\n      <td>0</td>\n      <td>0</td>\n      <td>7.652707</td>\n      <td>6.540000e-05</td>\n      <td>-6.540000e-05</td>\n      <td>134.460380</td>\n      <td>0.006190</td>\n      <td>-0.006190</td>\n      <td>...</td>\n      <td>-189</td>\n      <td>4.481</td>\n      <td>0.050</td>\n      <td>-0.200</td>\n      <td>0.963</td>\n      <td>0.290</td>\n      <td>-0.097</td>\n      <td>295.50211</td>\n      <td>38.983540</td>\n      <td>13.099</td>\n    </tr>\n    <tr>\n      <th>107</th>\n      <td>0</td>\n      <td>0</td>\n      <td>0</td>\n      <td>0</td>\n      <td>7.953547</td>\n      <td>1.910000e-05</td>\n      <td>-1.910000e-05</td>\n      <td>174.662240</td>\n      <td>0.001820</td>\n      <td>-0.001820</td>\n      <td>...</td>\n      <td>-85</td>\n      <td>4.536</td>\n      <td>0.056</td>\n      <td>-0.016</td>\n      <td>0.779</td>\n      <td>0.023</td>\n      <td>-0.049</td>\n      <td>291.15878</td>\n      <td>40.750271</td>\n      <td>15.660</td>\n    </tr>\n    <tr>\n      <th>29</th>\n      <td>0</td>\n      <td>0</td>\n      <td>0</td>\n      <td>0</td>\n      <td>4.959319</td>\n      <td>5.150000e-07</td>\n      <td>-5.150000e-07</td>\n      <td>172.258529</td>\n      <td>0.000083</td>\n      <td>-0.000083</td>\n      <td>...</td>\n      <td>-77</td>\n      <td>4.359</td>\n      <td>0.110</td>\n      <td>-0.110</td>\n      <td>1.082</td>\n      <td>0.173</td>\n      <td>-0.130</td>\n      <td>292.16705</td>\n      <td>48.727589</td>\n      <td>15.263</td>\n    </tr>\n  </tbody>\n</table>\n<p>5 rows × 40 columns</p>\n</div>"
     },
     "metadata": {},
     "execution_count": 11
    }
   ],
   "source": [
    "X_train.head()"
   ]
  },
  {
   "source": [
    "# Pre-processing\n",
    "\n",
    "Scale the data using the MinMaxScaler and perform some feature selection"
   ],
   "cell_type": "markdown",
   "metadata": {}
  },
  {
   "cell_type": "code",
   "execution_count": 12,
   "metadata": {},
   "outputs": [],
   "source": [
    "# Scale your data\n",
    "from sklearn.preprocessing import MinMaxScaler\n",
    "\n",
    "X_scaler = MinMaxScaler().fit(X_train)\n",
    "X_train_scaled = X_scaler.transform(X_train)\n",
    "X_test_scaled = X_scaler.transform(X_test)"
   ]
  },
  {
   "source": [
    "# Train the Model"
   ],
   "cell_type": "markdown",
   "metadata": {}
  },
  {
   "cell_type": "code",
   "execution_count": 13,
   "metadata": {},
   "outputs": [
    {
     "output_type": "execute_result",
     "data": {
      "text/plain": [
       "LogisticRegression(C=1.0, class_weight=None, dual=False, fit_intercept=True,\n",
       "                   intercept_scaling=1, l1_ratio=None, max_iter=100,\n",
       "                   multi_class='auto', n_jobs=None, penalty='l2',\n",
       "                   random_state=None, solver='lbfgs', tol=0.0001, verbose=0,\n",
       "                   warm_start=False)"
      ]
     },
     "metadata": {},
     "execution_count": 13
    }
   ],
   "source": [
    "from sklearn.linear_model import LogisticRegression\n",
    "\n",
    "classifier = LogisticRegression()\n",
    "classifier.fit(X_train_scaled, y_train)"
   ]
  },
  {
   "cell_type": "code",
   "execution_count": 14,
   "metadata": {},
   "outputs": [
    {
     "output_type": "stream",
     "name": "stdout",
     "text": [
      "[2 0 2 2 2]\n[2 0 2 2 2]\n"
     ]
    }
   ],
   "source": [
    "predictions = classifier.predict(X_test_scaled)\n",
    "print(predictions[:5])\n",
    "print(y_test[:5])"
   ]
  },
  {
   "cell_type": "code",
   "execution_count": 15,
   "metadata": {},
   "outputs": [
    {
     "output_type": "stream",
     "name": "stdout",
     "text": [
      "Training Data Score: 0.8506580202174328\nTesting Data Score: 0.8432494279176201\n"
     ]
    }
   ],
   "source": [
    "print(f\"Training Data Score: {classifier.score(X_train_scaled, y_train)}\")\n",
    "print(f\"Testing Data Score: {classifier.score(X_test_scaled, y_test)}\")"
   ]
  },
  {
   "cell_type": "code",
   "execution_count": 16,
   "metadata": {},
   "outputs": [
    {
     "output_type": "stream",
     "name": "stdout",
     "text": [
      "                precision    recall  f1-score   support\n\n     CONFIRMED       0.70      0.64      0.66       411\nFALSE POSITIVE       0.72      0.75      0.73       484\n     CANDIDATE       0.98      1.00      0.99       853\n\n      accuracy                           0.84      1748\n     macro avg       0.80      0.79      0.80      1748\n  weighted avg       0.84      0.84      0.84      1748\n\n"
     ]
    }
   ],
   "source": [
    "# Calculate classification report\n",
    "from sklearn.metrics import classification_report\n",
    "print(classification_report(y_test, predictions,\n",
    "                           target_names =[\"CONFIRMED\", \"FALSE POSITIVE\", \"CANDIDATE\"]))"
   ]
  },
  {
   "source": [
    "# Hyperparameter Tuning\n",
    "\n",
    "Use GridSearchCV to tune the model's parameters"
   ],
   "cell_type": "markdown",
   "metadata": {}
  },
  {
   "cell_type": "code",
   "execution_count": 22,
   "metadata": {},
   "outputs": [],
   "source": [
    "# Create the GridSearchCV model\n",
    "from sklearn.model_selection import GridSearchCV\n",
    "\n",
    "param_grid = {'C': [5, 10, 50], 'max_iter': [200,500,1000],'penalty' : ['l1', 'l2'],}\n",
    "grid_LR = GridSearchCV(classifier, param_grid, verbose=3)\n"
   ]
  },
  {
   "cell_type": "code",
   "execution_count": 24,
   "metadata": {},
   "outputs": [
    {
     "output_type": "execute_result",
     "data": {
      "text/plain": [
       "dict_keys(['C', 'class_weight', 'dual', 'fit_intercept', 'intercept_scaling', 'l1_ratio', 'max_iter', 'multi_class', 'n_jobs', 'penalty', 'random_state', 'solver', 'tol', 'verbose', 'warm_start'])"
      ]
     },
     "metadata": {},
     "execution_count": 24
    }
   ],
   "source": [
    "# List the parameters\n",
    "classifier.get_params().keys()"
   ]
  },
  {
   "cell_type": "code",
   "execution_count": 25,
   "metadata": {},
   "outputs": [
    {
     "output_type": "stream",
     "name": "stdout",
     "text": [
      "Fitting 5 folds for each of 18 candidates, totalling 90 fits\n",
      "[CV] C=5, max_iter=200, penalty=l1 ...................................\n",
      "[CV] ......... C=5, max_iter=200, penalty=l1, score=nan, total=   0.0s\n",
      "[CV] C=5, max_iter=200, penalty=l1 ...................................\n",
      "[CV] ......... C=5, max_iter=200, penalty=l1, score=nan, total=   0.0s\n",
      "[CV] C=5, max_iter=200, penalty=l1 ...................................\n",
      "[CV] ......... C=5, max_iter=200, penalty=l1, score=nan, total=   0.0s\n",
      "[CV] C=5, max_iter=200, penalty=l1 ...................................\n",
      "[CV] ......... C=5, max_iter=200, penalty=l1, score=nan, total=   0.0s\n",
      "[CV] C=5, max_iter=200, penalty=l1 ...................................\n",
      "[CV] ......... C=5, max_iter=200, penalty=l1, score=nan, total=   0.0s\n",
      "[CV] C=5, max_iter=200, penalty=l2 ...................................\n",
      "[Parallel(n_jobs=1)]: Using backend SequentialBackend with 1 concurrent workers.\n",
      "[Parallel(n_jobs=1)]: Done   1 out of   1 | elapsed:    0.0s remaining:    0.0s\n",
      "[Parallel(n_jobs=1)]: Done   2 out of   2 | elapsed:    0.0s remaining:    0.0s\n",
      "[CV] ....... C=5, max_iter=200, penalty=l2, score=0.882, total=   0.7s\n",
      "[CV] C=5, max_iter=200, penalty=l2 ...................................\n",
      "[CV] ....... C=5, max_iter=200, penalty=l2, score=0.852, total=   0.7s\n",
      "[CV] C=5, max_iter=200, penalty=l2 ...................................\n",
      "[CV] ....... C=5, max_iter=200, penalty=l2, score=0.875, total=   0.8s\n",
      "[CV] C=5, max_iter=200, penalty=l2 ...................................\n",
      "[CV] ....... C=5, max_iter=200, penalty=l2, score=0.848, total=   0.8s\n",
      "[CV] C=5, max_iter=200, penalty=l2 ...................................\n",
      "[CV] ....... C=5, max_iter=200, penalty=l2, score=0.864, total=   0.7s\n",
      "[CV] C=5, max_iter=500, penalty=l1 ...................................\n",
      "[CV] ......... C=5, max_iter=500, penalty=l1, score=nan, total=   0.0s\n",
      "[CV] C=5, max_iter=500, penalty=l1 ...................................\n",
      "[CV] ......... C=5, max_iter=500, penalty=l1, score=nan, total=   0.0s\n",
      "[CV] C=5, max_iter=500, penalty=l1 ...................................\n",
      "[CV] ......... C=5, max_iter=500, penalty=l1, score=nan, total=   0.0s\n",
      "[CV] C=5, max_iter=500, penalty=l1 ...................................\n",
      "[CV] ......... C=5, max_iter=500, penalty=l1, score=nan, total=   0.0s\n",
      "[CV] C=5, max_iter=500, penalty=l1 ...................................\n",
      "[CV] ......... C=5, max_iter=500, penalty=l1, score=nan, total=   0.0s\n",
      "[CV] C=5, max_iter=500, penalty=l2 ...................................\n",
      "[CV] ....... C=5, max_iter=500, penalty=l2, score=0.877, total=   1.9s\n",
      "[CV] C=5, max_iter=500, penalty=l2 ...................................\n",
      "[CV] ....... C=5, max_iter=500, penalty=l2, score=0.854, total=   1.9s\n",
      "[CV] C=5, max_iter=500, penalty=l2 ...................................\n",
      "[CV] ....... C=5, max_iter=500, penalty=l2, score=0.877, total=   2.1s\n",
      "[CV] C=5, max_iter=500, penalty=l2 ...................................\n",
      "[CV] ....... C=5, max_iter=500, penalty=l2, score=0.846, total=   2.2s\n",
      "[CV] C=5, max_iter=500, penalty=l2 ...................................\n",
      "[CV] ....... C=5, max_iter=500, penalty=l2, score=0.864, total=   1.6s\n",
      "[CV] C=5, max_iter=1000, penalty=l1 ..................................\n",
      "[CV] ........ C=5, max_iter=1000, penalty=l1, score=nan, total=   0.0s\n",
      "[CV] C=5, max_iter=1000, penalty=l1 ..................................\n",
      "[CV] ........ C=5, max_iter=1000, penalty=l1, score=nan, total=   0.0s\n",
      "[CV] C=5, max_iter=1000, penalty=l1 ..................................\n",
      "[CV] ........ C=5, max_iter=1000, penalty=l1, score=nan, total=   0.0s\n",
      "[CV] C=5, max_iter=1000, penalty=l1 ..................................\n",
      "[CV] ........ C=5, max_iter=1000, penalty=l1, score=nan, total=   0.0s\n",
      "[CV] C=5, max_iter=1000, penalty=l1 ..................................\n",
      "[CV] ........ C=5, max_iter=1000, penalty=l1, score=nan, total=   0.0s\n",
      "[CV] C=5, max_iter=1000, penalty=l2 ..................................\n",
      "[CV] ...... C=5, max_iter=1000, penalty=l2, score=0.877, total=   2.0s\n",
      "[CV] C=5, max_iter=1000, penalty=l2 ..................................\n",
      "[CV] ...... C=5, max_iter=1000, penalty=l2, score=0.854, total=   2.2s\n",
      "[CV] C=5, max_iter=1000, penalty=l2 ..................................\n",
      "[CV] ...... C=5, max_iter=1000, penalty=l2, score=0.877, total=   2.5s\n",
      "[CV] C=5, max_iter=1000, penalty=l2 ..................................\n",
      "[CV] ...... C=5, max_iter=1000, penalty=l2, score=0.846, total=   2.1s\n",
      "[CV] C=5, max_iter=1000, penalty=l2 ..................................\n",
      "[CV] ...... C=5, max_iter=1000, penalty=l2, score=0.864, total=   1.7s\n",
      "[CV] C=10, max_iter=200, penalty=l1 ..................................\n",
      "[CV] ........ C=10, max_iter=200, penalty=l1, score=nan, total=   0.0s\n",
      "[CV] C=10, max_iter=200, penalty=l1 ..................................\n",
      "[CV] ........ C=10, max_iter=200, penalty=l1, score=nan, total=   0.0s\n",
      "[CV] C=10, max_iter=200, penalty=l1 ..................................\n",
      "[CV] ........ C=10, max_iter=200, penalty=l1, score=nan, total=   0.0s\n",
      "[CV] C=10, max_iter=200, penalty=l1 ..................................\n",
      "[CV] ........ C=10, max_iter=200, penalty=l1, score=nan, total=   0.0s\n",
      "[CV] C=10, max_iter=200, penalty=l1 ..................................\n",
      "[CV] ........ C=10, max_iter=200, penalty=l1, score=nan, total=   0.0s\n",
      "[CV] C=10, max_iter=200, penalty=l2 ..................................\n",
      "[CV] ...... C=10, max_iter=200, penalty=l2, score=0.882, total=   0.8s\n",
      "[CV] C=10, max_iter=200, penalty=l2 ..................................\n",
      "[CV] ...... C=10, max_iter=200, penalty=l2, score=0.863, total=   0.9s\n",
      "[CV] C=10, max_iter=200, penalty=l2 ..................................\n",
      "[CV] ...... C=10, max_iter=200, penalty=l2, score=0.885, total=   0.8s\n",
      "[CV] C=10, max_iter=200, penalty=l2 ..................................\n",
      "[CV] ...... C=10, max_iter=200, penalty=l2, score=0.849, total=   1.0s\n",
      "[CV] C=10, max_iter=200, penalty=l2 ..................................\n",
      "[CV] ...... C=10, max_iter=200, penalty=l2, score=0.865, total=   0.8s\n",
      "[CV] C=10, max_iter=500, penalty=l1 ..................................\n",
      "[CV] ........ C=10, max_iter=500, penalty=l1, score=nan, total=   0.0s\n",
      "[CV] C=10, max_iter=500, penalty=l1 ..................................\n",
      "[CV] ........ C=10, max_iter=500, penalty=l1, score=nan, total=   0.0s\n",
      "[CV] C=10, max_iter=500, penalty=l1 ..................................\n",
      "[CV] ........ C=10, max_iter=500, penalty=l1, score=nan, total=   0.0s\n",
      "[CV] C=10, max_iter=500, penalty=l1 ..................................\n",
      "[CV] ........ C=10, max_iter=500, penalty=l1, score=nan, total=   0.0s\n",
      "[CV] C=10, max_iter=500, penalty=l1 ..................................\n",
      "[CV] ........ C=10, max_iter=500, penalty=l1, score=nan, total=   0.0s\n",
      "[CV] C=10, max_iter=500, penalty=l2 ..................................\n",
      "[CV] ...... C=10, max_iter=500, penalty=l2, score=0.882, total=   1.9s\n",
      "[CV] C=10, max_iter=500, penalty=l2 ..................................\n",
      "[CV] ...... C=10, max_iter=500, penalty=l2, score=0.861, total=   1.8s\n",
      "[CV] C=10, max_iter=500, penalty=l2 ..................................\n",
      "[CV] ...... C=10, max_iter=500, penalty=l2, score=0.885, total=   2.1s\n",
      "[CV] C=10, max_iter=500, penalty=l2 ..................................\n",
      "[CV] ...... C=10, max_iter=500, penalty=l2, score=0.851, total=   1.9s\n",
      "[CV] C=10, max_iter=500, penalty=l2 ..................................\n",
      "[CV] ...... C=10, max_iter=500, penalty=l2, score=0.865, total=   1.9s\n",
      "[CV] C=10, max_iter=1000, penalty=l1 .................................\n",
      "[CV] ....... C=10, max_iter=1000, penalty=l1, score=nan, total=   0.0s\n",
      "[CV] C=10, max_iter=1000, penalty=l1 .................................\n",
      "[CV] ....... C=10, max_iter=1000, penalty=l1, score=nan, total=   0.0s\n",
      "[CV] C=10, max_iter=1000, penalty=l1 .................................\n",
      "[CV] ....... C=10, max_iter=1000, penalty=l1, score=nan, total=   0.0s\n",
      "[CV] C=10, max_iter=1000, penalty=l1 .................................\n",
      "[CV] ....... C=10, max_iter=1000, penalty=l1, score=nan, total=   0.0s\n",
      "[CV] C=10, max_iter=1000, penalty=l1 .................................\n",
      "[CV] ....... C=10, max_iter=1000, penalty=l1, score=nan, total=   0.0s\n",
      "[CV] C=10, max_iter=1000, penalty=l2 .................................\n",
      "[CV] ..... C=10, max_iter=1000, penalty=l2, score=0.882, total=   3.1s\n",
      "[CV] C=10, max_iter=1000, penalty=l2 .................................\n",
      "[CV] ..... C=10, max_iter=1000, penalty=l2, score=0.860, total=   3.7s\n",
      "[CV] C=10, max_iter=1000, penalty=l2 .................................\n",
      "[CV] ..... C=10, max_iter=1000, penalty=l2, score=0.885, total=   3.4s\n",
      "[CV] C=10, max_iter=1000, penalty=l2 .................................\n",
      "[CV] ..... C=10, max_iter=1000, penalty=l2, score=0.851, total=   2.6s\n",
      "[CV] C=10, max_iter=1000, penalty=l2 .................................\n",
      "[CV] ..... C=10, max_iter=1000, penalty=l2, score=0.865, total=   2.4s\n",
      "[CV] C=50, max_iter=200, penalty=l1 ..................................\n",
      "[CV] ........ C=50, max_iter=200, penalty=l1, score=nan, total=   0.0s\n",
      "[CV] C=50, max_iter=200, penalty=l1 ..................................\n",
      "[CV] ........ C=50, max_iter=200, penalty=l1, score=nan, total=   0.0s\n",
      "[CV] C=50, max_iter=200, penalty=l1 ..................................\n",
      "[CV] ........ C=50, max_iter=200, penalty=l1, score=nan, total=   0.0s\n",
      "[CV] C=50, max_iter=200, penalty=l1 ..................................\n",
      "[CV] ........ C=50, max_iter=200, penalty=l1, score=nan, total=   0.0s\n",
      "[CV] C=50, max_iter=200, penalty=l1 ..................................\n",
      "[CV] ........ C=50, max_iter=200, penalty=l1, score=nan, total=   0.0s\n",
      "[CV] C=50, max_iter=200, penalty=l2 ..................................\n",
      "[CV] ...... C=50, max_iter=200, penalty=l2, score=0.891, total=   0.7s\n",
      "[CV] C=50, max_iter=200, penalty=l2 ..................................\n",
      "[CV] ...... C=50, max_iter=200, penalty=l2, score=0.876, total=   0.7s\n",
      "[CV] C=50, max_iter=200, penalty=l2 ..................................\n",
      "[CV] ...... C=50, max_iter=200, penalty=l2, score=0.890, total=   0.8s\n",
      "[CV] C=50, max_iter=200, penalty=l2 ..................................\n",
      "[CV] ...... C=50, max_iter=200, penalty=l2, score=0.864, total=   0.9s\n",
      "[CV] C=50, max_iter=200, penalty=l2 ..................................\n",
      "[CV] ...... C=50, max_iter=200, penalty=l2, score=0.870, total=   1.0s\n",
      "[CV] C=50, max_iter=500, penalty=l1 ..................................\n",
      "[CV] ........ C=50, max_iter=500, penalty=l1, score=nan, total=   0.0s\n",
      "[CV] C=50, max_iter=500, penalty=l1 ..................................\n",
      "[CV] ........ C=50, max_iter=500, penalty=l1, score=nan, total=   0.0s\n",
      "[CV] C=50, max_iter=500, penalty=l1 ..................................\n",
      "[CV] ........ C=50, max_iter=500, penalty=l1, score=nan, total=   0.0s\n",
      "[CV] C=50, max_iter=500, penalty=l1 ..................................\n",
      "[CV] ........ C=50, max_iter=500, penalty=l1, score=nan, total=   0.0s\n",
      "[CV] C=50, max_iter=500, penalty=l1 ..................................\n",
      "[CV] ........ C=50, max_iter=500, penalty=l1, score=nan, total=   0.0s\n",
      "[CV] C=50, max_iter=500, penalty=l2 ..................................\n",
      "[CV] ...... C=50, max_iter=500, penalty=l2, score=0.893, total=   2.8s\n",
      "[CV] C=50, max_iter=500, penalty=l2 ..................................\n",
      "[CV] ...... C=50, max_iter=500, penalty=l2, score=0.873, total=   2.0s\n",
      "[CV] C=50, max_iter=500, penalty=l2 ..................................\n",
      "[CV] ...... C=50, max_iter=500, penalty=l2, score=0.890, total=   2.2s\n",
      "[CV] C=50, max_iter=500, penalty=l2 ..................................\n",
      "[CV] ...... C=50, max_iter=500, penalty=l2, score=0.863, total=   2.3s\n",
      "[CV] C=50, max_iter=500, penalty=l2 ..................................\n",
      "[CV] ...... C=50, max_iter=500, penalty=l2, score=0.872, total=   2.7s\n",
      "[CV] C=50, max_iter=1000, penalty=l1 .................................\n",
      "[CV] ....... C=50, max_iter=1000, penalty=l1, score=nan, total=   0.0s\n",
      "[CV] C=50, max_iter=1000, penalty=l1 .................................\n",
      "[CV] ....... C=50, max_iter=1000, penalty=l1, score=nan, total=   0.0s\n",
      "[CV] C=50, max_iter=1000, penalty=l1 .................................\n",
      "[CV] ....... C=50, max_iter=1000, penalty=l1, score=nan, total=   0.0s\n",
      "[CV] C=50, max_iter=1000, penalty=l1 .................................\n",
      "[CV] ....... C=50, max_iter=1000, penalty=l1, score=nan, total=   0.0s\n",
      "[CV] C=50, max_iter=1000, penalty=l1 .................................\n",
      "[CV] ....... C=50, max_iter=1000, penalty=l1, score=nan, total=   0.0s\n",
      "[CV] C=50, max_iter=1000, penalty=l2 .................................\n",
      "[CV] ..... C=50, max_iter=1000, penalty=l2, score=0.893, total=   4.7s\n",
      "[CV] C=50, max_iter=1000, penalty=l2 .................................\n",
      "[CV] ..... C=50, max_iter=1000, penalty=l2, score=0.874, total=   4.0s\n",
      "[CV] C=50, max_iter=1000, penalty=l2 .................................\n",
      "[CV] ..... C=50, max_iter=1000, penalty=l2, score=0.889, total=   4.1s\n",
      "[CV] C=50, max_iter=1000, penalty=l2 .................................\n",
      "[CV] ..... C=50, max_iter=1000, penalty=l2, score=0.862, total=   4.0s\n",
      "[CV] C=50, max_iter=1000, penalty=l2 .................................\n",
      "[CV] ..... C=50, max_iter=1000, penalty=l2, score=0.873, total=   4.2s\n",
      "[Parallel(n_jobs=1)]: Done  90 out of  90 | elapsed:  1.5min finished\n"
     ]
    },
    {
     "output_type": "execute_result",
     "data": {
      "text/plain": [
       "GridSearchCV(cv=None, error_score=nan,\n",
       "             estimator=LogisticRegression(C=1.0, class_weight=None, dual=False,\n",
       "                                          fit_intercept=True,\n",
       "                                          intercept_scaling=1, l1_ratio=None,\n",
       "                                          max_iter=100, multi_class='auto',\n",
       "                                          n_jobs=None, penalty='l2',\n",
       "                                          random_state=None, solver='lbfgs',\n",
       "                                          tol=0.0001, verbose=0,\n",
       "                                          warm_start=False),\n",
       "             iid='deprecated', n_jobs=None,\n",
       "             param_grid={'C': [5, 10, 50], 'max_iter': [200, 500, 1000],\n",
       "                         'penalty': ['l1', 'l2']},\n",
       "             pre_dispatch='2*n_jobs', refit=True, return_train_score=False,\n",
       "             scoring=None, verbose=3)"
      ]
     },
     "metadata": {},
     "execution_count": 25
    }
   ],
   "source": [
    "# Train the model with GridSearch\n",
    "grid_LR.fit(X_train_scaled, y_train)"
   ]
  },
  {
   "cell_type": "code",
   "execution_count": 26,
   "metadata": {},
   "outputs": [
    {
     "output_type": "stream",
     "name": "stdout",
     "text": [
      "{'C': 50, 'max_iter': 500, 'penalty': 'l2'}\n0.8783097679360206\n"
     ]
    }
   ],
   "source": [
    "print(grid_LR.best_params_)\n",
    "print(grid_LR.best_score_)"
   ]
  },
  {
   "cell_type": "code",
   "execution_count": 27,
   "metadata": {},
   "outputs": [
    {
     "output_type": "execute_result",
     "data": {
      "text/plain": [
       "array([2, 0, 2, ..., 1, 0, 1])"
      ]
     },
     "metadata": {},
     "execution_count": 27
    }
   ],
   "source": [
    "# Make predictions with the hypertuned model\n",
    "predictions = grid_LR.predict(X_test_scaled)\n",
    "predictions"
   ]
  },
  {
   "cell_type": "code",
   "execution_count": 28,
   "metadata": {},
   "outputs": [
    {
     "output_type": "stream",
     "name": "stdout",
     "text": [
      "                precision    recall  f1-score   support\n\n     CONFIRMED       0.80      0.67      0.73       411\nFALSE POSITIVE       0.76      0.84      0.80       484\n     CANDIDATE       0.98      1.00      0.99       853\n\n      accuracy                           0.88      1748\n     macro avg       0.85      0.84      0.84      1748\n  weighted avg       0.88      0.88      0.87      1748\n\n"
     ]
    }
   ],
   "source": [
    "# Calculate classification report\n",
    "from sklearn.metrics import classification_report\n",
    "print(classification_report(y_test, predictions,\n",
    "                           target_names =[\"CONFIRMED\", \"FALSE POSITIVE\", \"CANDIDATE\"]))"
   ]
  },
  {
   "source": [
    "# Save the Model"
   ],
   "cell_type": "markdown",
   "metadata": {}
  },
  {
   "cell_type": "code",
   "execution_count": 29,
   "metadata": {},
   "outputs": [
    {
     "output_type": "execute_result",
     "data": {
      "text/plain": [
       "['Models/LogisticRegression.sav']"
      ]
     },
     "metadata": {},
     "execution_count": 29
    }
   ],
   "source": [
    "# save your model by updating \"your_name\" with your name\n",
    "# and \"your_model\" with your model variable\n",
    "# be sure to turn this in to BCS\n",
    "# if joblib fails to import, try running the command to install in terminal/git-bash\n",
    "import joblib\n",
    "filename = 'Models/LogisticRegression.sav'\n",
    "joblib.dump(grid_LR, filename)"
   ]
  },
  {
   "cell_type": "code",
   "execution_count": null,
   "metadata": {},
   "outputs": [],
   "source": []
  }
 ]
}