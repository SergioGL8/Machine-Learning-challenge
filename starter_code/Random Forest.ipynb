{
 "cells": [
  {
   "cell_type": "code",
   "execution_count": 2,
   "metadata": {},
   "outputs": [],
   "source": [
    "# Update sklearn to prevent version mismatches\n",
    "#!pip install sklearn --upgrade"
   ]
  },
  {
   "cell_type": "code",
   "execution_count": 3,
   "metadata": {},
   "outputs": [],
   "source": [
    "# install joblib. This will be used to save your model. \n",
    "# Restart your kernel after installing \n",
    "#!pip install joblib"
   ]
  },
  {
   "cell_type": "code",
   "execution_count": 1,
   "metadata": {},
   "outputs": [],
   "source": [
    "import pandas as pd"
   ]
  },
  {
   "cell_type": "markdown",
   "metadata": {},
   "source": [
    "# Read the CSV and Perform Basic Data Cleaning"
   ]
  },
  {
   "cell_type": "code",
   "execution_count": 2,
   "metadata": {},
   "outputs": [
    {
     "output_type": "execute_result",
     "data": {
      "text/plain": [
       "     koi_disposition  koi_fpflag_nt  koi_fpflag_ss  koi_fpflag_co  \\\n",
       "0          CONFIRMED              0              0              0   \n",
       "1     FALSE POSITIVE              0              1              0   \n",
       "2     FALSE POSITIVE              0              1              0   \n",
       "3          CONFIRMED              0              0              0   \n",
       "4          CONFIRMED              0              0              0   \n",
       "...              ...            ...            ...            ...   \n",
       "6986  FALSE POSITIVE              0              0              0   \n",
       "6987  FALSE POSITIVE              0              1              1   \n",
       "6988       CANDIDATE              0              0              0   \n",
       "6989  FALSE POSITIVE              0              0              1   \n",
       "6990  FALSE POSITIVE              0              0              1   \n",
       "\n",
       "      koi_fpflag_ec  koi_period  koi_period_err1  koi_period_err2  \\\n",
       "0                 0   54.418383     2.479000e-04    -2.479000e-04   \n",
       "1                 0   19.899140     1.490000e-05    -1.490000e-05   \n",
       "2                 0    1.736952     2.630000e-07    -2.630000e-07   \n",
       "3                 0    2.525592     3.760000e-06    -3.760000e-06   \n",
       "4                 0    4.134435     1.050000e-05    -1.050000e-05   \n",
       "...             ...         ...              ...              ...   \n",
       "6986              1    8.589871     1.846000e-04    -1.846000e-04   \n",
       "6987              0    0.527699     1.160000e-07    -1.160000e-07   \n",
       "6988              0    1.739849     1.780000e-05    -1.780000e-05   \n",
       "6989              0    0.681402     2.430000e-06    -2.430000e-06   \n",
       "6990              1    4.856035     6.360000e-05    -6.360000e-05   \n",
       "\n",
       "      koi_time0bk  koi_time0bk_err1  ...  koi_steff_err2  koi_slogg  \\\n",
       "0      162.513840          0.003520  ...             -81      4.467   \n",
       "1      175.850252          0.000581  ...            -176      4.544   \n",
       "2      170.307565          0.000115  ...            -174      4.564   \n",
       "3      171.595550          0.001130  ...            -211      4.438   \n",
       "4      172.979370          0.001900  ...            -232      4.486   \n",
       "...           ...               ...  ...             ...        ...   \n",
       "6986   132.016100          0.015700  ...            -152      4.296   \n",
       "6987   131.705093          0.000170  ...            -166      4.529   \n",
       "6988   133.001270          0.007690  ...            -220      4.444   \n",
       "6989   132.181750          0.002850  ...            -236      4.447   \n",
       "6990   135.993300          0.010800  ...            -225      4.385   \n",
       "\n",
       "      koi_slogg_err1  koi_slogg_err2  koi_srad  koi_srad_err1  koi_srad_err2  \\\n",
       "0              0.064          -0.096     0.927          0.105         -0.061   \n",
       "1              0.044          -0.176     0.868          0.233         -0.078   \n",
       "2              0.053          -0.168     0.791          0.201         -0.067   \n",
       "3              0.070          -0.210     1.046          0.334         -0.133   \n",
       "4              0.054          -0.229     0.972          0.315         -0.105   \n",
       "...              ...             ...       ...            ...            ...   \n",
       "6986           0.231          -0.189     1.088          0.313         -0.228   \n",
       "6987           0.035          -0.196     0.903          0.237         -0.079   \n",
       "6988           0.056          -0.224     1.031          0.341         -0.114   \n",
       "6989           0.056          -0.224     1.041          0.341         -0.114   \n",
       "6990           0.054          -0.216     1.193          0.410         -0.137   \n",
       "\n",
       "             ra        dec  koi_kepmag  \n",
       "0     291.93423  48.141651      15.347  \n",
       "1     297.00482  48.134129      15.436  \n",
       "2     285.53461  48.285210      15.597  \n",
       "3     288.75488  48.226200      15.509  \n",
       "4     296.28613  48.224670      15.714  \n",
       "...         ...        ...         ...  \n",
       "6986  298.74921  46.973351      14.478  \n",
       "6987  297.18875  47.093819      14.082  \n",
       "6988  286.50937  47.163219      14.757  \n",
       "6989  294.16489  47.176281      15.385  \n",
       "6990  297.00977  47.121021      14.826  \n",
       "\n",
       "[6991 rows x 41 columns]"
      ],
      "text/html": "<div>\n<style scoped>\n    .dataframe tbody tr th:only-of-type {\n        vertical-align: middle;\n    }\n\n    .dataframe tbody tr th {\n        vertical-align: top;\n    }\n\n    .dataframe thead th {\n        text-align: right;\n    }\n</style>\n<table border=\"1\" class=\"dataframe\">\n  <thead>\n    <tr style=\"text-align: right;\">\n      <th></th>\n      <th>koi_disposition</th>\n      <th>koi_fpflag_nt</th>\n      <th>koi_fpflag_ss</th>\n      <th>koi_fpflag_co</th>\n      <th>koi_fpflag_ec</th>\n      <th>koi_period</th>\n      <th>koi_period_err1</th>\n      <th>koi_period_err2</th>\n      <th>koi_time0bk</th>\n      <th>koi_time0bk_err1</th>\n      <th>...</th>\n      <th>koi_steff_err2</th>\n      <th>koi_slogg</th>\n      <th>koi_slogg_err1</th>\n      <th>koi_slogg_err2</th>\n      <th>koi_srad</th>\n      <th>koi_srad_err1</th>\n      <th>koi_srad_err2</th>\n      <th>ra</th>\n      <th>dec</th>\n      <th>koi_kepmag</th>\n    </tr>\n  </thead>\n  <tbody>\n    <tr>\n      <th>0</th>\n      <td>CONFIRMED</td>\n      <td>0</td>\n      <td>0</td>\n      <td>0</td>\n      <td>0</td>\n      <td>54.418383</td>\n      <td>2.479000e-04</td>\n      <td>-2.479000e-04</td>\n      <td>162.513840</td>\n      <td>0.003520</td>\n      <td>...</td>\n      <td>-81</td>\n      <td>4.467</td>\n      <td>0.064</td>\n      <td>-0.096</td>\n      <td>0.927</td>\n      <td>0.105</td>\n      <td>-0.061</td>\n      <td>291.93423</td>\n      <td>48.141651</td>\n      <td>15.347</td>\n    </tr>\n    <tr>\n      <th>1</th>\n      <td>FALSE POSITIVE</td>\n      <td>0</td>\n      <td>1</td>\n      <td>0</td>\n      <td>0</td>\n      <td>19.899140</td>\n      <td>1.490000e-05</td>\n      <td>-1.490000e-05</td>\n      <td>175.850252</td>\n      <td>0.000581</td>\n      <td>...</td>\n      <td>-176</td>\n      <td>4.544</td>\n      <td>0.044</td>\n      <td>-0.176</td>\n      <td>0.868</td>\n      <td>0.233</td>\n      <td>-0.078</td>\n      <td>297.00482</td>\n      <td>48.134129</td>\n      <td>15.436</td>\n    </tr>\n    <tr>\n      <th>2</th>\n      <td>FALSE POSITIVE</td>\n      <td>0</td>\n      <td>1</td>\n      <td>0</td>\n      <td>0</td>\n      <td>1.736952</td>\n      <td>2.630000e-07</td>\n      <td>-2.630000e-07</td>\n      <td>170.307565</td>\n      <td>0.000115</td>\n      <td>...</td>\n      <td>-174</td>\n      <td>4.564</td>\n      <td>0.053</td>\n      <td>-0.168</td>\n      <td>0.791</td>\n      <td>0.201</td>\n      <td>-0.067</td>\n      <td>285.53461</td>\n      <td>48.285210</td>\n      <td>15.597</td>\n    </tr>\n    <tr>\n      <th>3</th>\n      <td>CONFIRMED</td>\n      <td>0</td>\n      <td>0</td>\n      <td>0</td>\n      <td>0</td>\n      <td>2.525592</td>\n      <td>3.760000e-06</td>\n      <td>-3.760000e-06</td>\n      <td>171.595550</td>\n      <td>0.001130</td>\n      <td>...</td>\n      <td>-211</td>\n      <td>4.438</td>\n      <td>0.070</td>\n      <td>-0.210</td>\n      <td>1.046</td>\n      <td>0.334</td>\n      <td>-0.133</td>\n      <td>288.75488</td>\n      <td>48.226200</td>\n      <td>15.509</td>\n    </tr>\n    <tr>\n      <th>4</th>\n      <td>CONFIRMED</td>\n      <td>0</td>\n      <td>0</td>\n      <td>0</td>\n      <td>0</td>\n      <td>4.134435</td>\n      <td>1.050000e-05</td>\n      <td>-1.050000e-05</td>\n      <td>172.979370</td>\n      <td>0.001900</td>\n      <td>...</td>\n      <td>-232</td>\n      <td>4.486</td>\n      <td>0.054</td>\n      <td>-0.229</td>\n      <td>0.972</td>\n      <td>0.315</td>\n      <td>-0.105</td>\n      <td>296.28613</td>\n      <td>48.224670</td>\n      <td>15.714</td>\n    </tr>\n    <tr>\n      <th>...</th>\n      <td>...</td>\n      <td>...</td>\n      <td>...</td>\n      <td>...</td>\n      <td>...</td>\n      <td>...</td>\n      <td>...</td>\n      <td>...</td>\n      <td>...</td>\n      <td>...</td>\n      <td>...</td>\n      <td>...</td>\n      <td>...</td>\n      <td>...</td>\n      <td>...</td>\n      <td>...</td>\n      <td>...</td>\n      <td>...</td>\n      <td>...</td>\n      <td>...</td>\n      <td>...</td>\n    </tr>\n    <tr>\n      <th>6986</th>\n      <td>FALSE POSITIVE</td>\n      <td>0</td>\n      <td>0</td>\n      <td>0</td>\n      <td>1</td>\n      <td>8.589871</td>\n      <td>1.846000e-04</td>\n      <td>-1.846000e-04</td>\n      <td>132.016100</td>\n      <td>0.015700</td>\n      <td>...</td>\n      <td>-152</td>\n      <td>4.296</td>\n      <td>0.231</td>\n      <td>-0.189</td>\n      <td>1.088</td>\n      <td>0.313</td>\n      <td>-0.228</td>\n      <td>298.74921</td>\n      <td>46.973351</td>\n      <td>14.478</td>\n    </tr>\n    <tr>\n      <th>6987</th>\n      <td>FALSE POSITIVE</td>\n      <td>0</td>\n      <td>1</td>\n      <td>1</td>\n      <td>0</td>\n      <td>0.527699</td>\n      <td>1.160000e-07</td>\n      <td>-1.160000e-07</td>\n      <td>131.705093</td>\n      <td>0.000170</td>\n      <td>...</td>\n      <td>-166</td>\n      <td>4.529</td>\n      <td>0.035</td>\n      <td>-0.196</td>\n      <td>0.903</td>\n      <td>0.237</td>\n      <td>-0.079</td>\n      <td>297.18875</td>\n      <td>47.093819</td>\n      <td>14.082</td>\n    </tr>\n    <tr>\n      <th>6988</th>\n      <td>CANDIDATE</td>\n      <td>0</td>\n      <td>0</td>\n      <td>0</td>\n      <td>0</td>\n      <td>1.739849</td>\n      <td>1.780000e-05</td>\n      <td>-1.780000e-05</td>\n      <td>133.001270</td>\n      <td>0.007690</td>\n      <td>...</td>\n      <td>-220</td>\n      <td>4.444</td>\n      <td>0.056</td>\n      <td>-0.224</td>\n      <td>1.031</td>\n      <td>0.341</td>\n      <td>-0.114</td>\n      <td>286.50937</td>\n      <td>47.163219</td>\n      <td>14.757</td>\n    </tr>\n    <tr>\n      <th>6989</th>\n      <td>FALSE POSITIVE</td>\n      <td>0</td>\n      <td>0</td>\n      <td>1</td>\n      <td>0</td>\n      <td>0.681402</td>\n      <td>2.430000e-06</td>\n      <td>-2.430000e-06</td>\n      <td>132.181750</td>\n      <td>0.002850</td>\n      <td>...</td>\n      <td>-236</td>\n      <td>4.447</td>\n      <td>0.056</td>\n      <td>-0.224</td>\n      <td>1.041</td>\n      <td>0.341</td>\n      <td>-0.114</td>\n      <td>294.16489</td>\n      <td>47.176281</td>\n      <td>15.385</td>\n    </tr>\n    <tr>\n      <th>6990</th>\n      <td>FALSE POSITIVE</td>\n      <td>0</td>\n      <td>0</td>\n      <td>1</td>\n      <td>1</td>\n      <td>4.856035</td>\n      <td>6.360000e-05</td>\n      <td>-6.360000e-05</td>\n      <td>135.993300</td>\n      <td>0.010800</td>\n      <td>...</td>\n      <td>-225</td>\n      <td>4.385</td>\n      <td>0.054</td>\n      <td>-0.216</td>\n      <td>1.193</td>\n      <td>0.410</td>\n      <td>-0.137</td>\n      <td>297.00977</td>\n      <td>47.121021</td>\n      <td>14.826</td>\n    </tr>\n  </tbody>\n</table>\n<p>6991 rows × 41 columns</p>\n</div>"
     },
     "metadata": {},
     "execution_count": 2
    }
   ],
   "source": [
    "df = pd.read_csv(\"exoplanet_data.csv\")\n",
    "# Drop the null columns where all values are null\n",
    "df = df.dropna(axis='columns', how='all')\n",
    "# Drop the null rows\n",
    "df = df.dropna()\n",
    "df"
   ]
  },
  {
   "cell_type": "markdown",
   "metadata": {},
   "source": [
    "# Select your features (columns)"
   ]
  },
  {
   "cell_type": "code",
   "execution_count": 3,
   "metadata": {},
   "outputs": [
    {
     "output_type": "execute_result",
     "data": {
      "text/plain": [
       "Index(['koi_disposition', 'koi_fpflag_nt', 'koi_fpflag_ss', 'koi_fpflag_co',\n",
       "       'koi_fpflag_ec', 'koi_period', 'koi_period_err1', 'koi_period_err2',\n",
       "       'koi_time0bk', 'koi_time0bk_err1', 'koi_time0bk_err2', 'koi_impact',\n",
       "       'koi_impact_err1', 'koi_impact_err2', 'koi_duration',\n",
       "       'koi_duration_err1', 'koi_duration_err2', 'koi_depth', 'koi_depth_err1',\n",
       "       'koi_depth_err2', 'koi_prad', 'koi_prad_err1', 'koi_prad_err2',\n",
       "       'koi_teq', 'koi_insol', 'koi_insol_err1', 'koi_insol_err2',\n",
       "       'koi_model_snr', 'koi_tce_plnt_num', 'koi_steff', 'koi_steff_err1',\n",
       "       'koi_steff_err2', 'koi_slogg', 'koi_slogg_err1', 'koi_slogg_err2',\n",
       "       'koi_srad', 'koi_srad_err1', 'koi_srad_err2', 'ra', 'dec',\n",
       "       'koi_kepmag'],\n",
       "      dtype='object')"
      ]
     },
     "metadata": {},
     "execution_count": 3
    }
   ],
   "source": [
    "df.columns"
   ]
  },
  {
   "cell_type": "code",
   "execution_count": 4,
   "metadata": {},
   "outputs": [
    {
     "output_type": "execute_result",
     "data": {
      "text/plain": [
       "   koi_fpflag_nt  koi_fpflag_ss  koi_fpflag_co  koi_fpflag_ec  koi_period  \\\n",
       "0              0              0              0              0   54.418383   \n",
       "1              0              1              0              0   19.899140   \n",
       "2              0              1              0              0    1.736952   \n",
       "3              0              0              0              0    2.525592   \n",
       "4              0              0              0              0    4.134435   \n",
       "\n",
       "   koi_period_err1  koi_period_err2  koi_time0bk  koi_time0bk_err1  \\\n",
       "0     2.479000e-04    -2.479000e-04   162.513840          0.003520   \n",
       "1     1.490000e-05    -1.490000e-05   175.850252          0.000581   \n",
       "2     2.630000e-07    -2.630000e-07   170.307565          0.000115   \n",
       "3     3.760000e-06    -3.760000e-06   171.595550          0.001130   \n",
       "4     1.050000e-05    -1.050000e-05   172.979370          0.001900   \n",
       "\n",
       "   koi_time0bk_err2  ...  koi_steff_err2  koi_slogg  koi_slogg_err1  \\\n",
       "0         -0.003520  ...             -81      4.467           0.064   \n",
       "1         -0.000581  ...            -176      4.544           0.044   \n",
       "2         -0.000115  ...            -174      4.564           0.053   \n",
       "3         -0.001130  ...            -211      4.438           0.070   \n",
       "4         -0.001900  ...            -232      4.486           0.054   \n",
       "\n",
       "   koi_slogg_err2  koi_srad  koi_srad_err1  koi_srad_err2         ra  \\\n",
       "0          -0.096     0.927          0.105         -0.061  291.93423   \n",
       "1          -0.176     0.868          0.233         -0.078  297.00482   \n",
       "2          -0.168     0.791          0.201         -0.067  285.53461   \n",
       "3          -0.210     1.046          0.334         -0.133  288.75488   \n",
       "4          -0.229     0.972          0.315         -0.105  296.28613   \n",
       "\n",
       "         dec  koi_kepmag  \n",
       "0  48.141651      15.347  \n",
       "1  48.134129      15.436  \n",
       "2  48.285210      15.597  \n",
       "3  48.226200      15.509  \n",
       "4  48.224670      15.714  \n",
       "\n",
       "[5 rows x 40 columns]"
      ],
      "text/html": "<div>\n<style scoped>\n    .dataframe tbody tr th:only-of-type {\n        vertical-align: middle;\n    }\n\n    .dataframe tbody tr th {\n        vertical-align: top;\n    }\n\n    .dataframe thead th {\n        text-align: right;\n    }\n</style>\n<table border=\"1\" class=\"dataframe\">\n  <thead>\n    <tr style=\"text-align: right;\">\n      <th></th>\n      <th>koi_fpflag_nt</th>\n      <th>koi_fpflag_ss</th>\n      <th>koi_fpflag_co</th>\n      <th>koi_fpflag_ec</th>\n      <th>koi_period</th>\n      <th>koi_period_err1</th>\n      <th>koi_period_err2</th>\n      <th>koi_time0bk</th>\n      <th>koi_time0bk_err1</th>\n      <th>koi_time0bk_err2</th>\n      <th>...</th>\n      <th>koi_steff_err2</th>\n      <th>koi_slogg</th>\n      <th>koi_slogg_err1</th>\n      <th>koi_slogg_err2</th>\n      <th>koi_srad</th>\n      <th>koi_srad_err1</th>\n      <th>koi_srad_err2</th>\n      <th>ra</th>\n      <th>dec</th>\n      <th>koi_kepmag</th>\n    </tr>\n  </thead>\n  <tbody>\n    <tr>\n      <th>0</th>\n      <td>0</td>\n      <td>0</td>\n      <td>0</td>\n      <td>0</td>\n      <td>54.418383</td>\n      <td>2.479000e-04</td>\n      <td>-2.479000e-04</td>\n      <td>162.513840</td>\n      <td>0.003520</td>\n      <td>-0.003520</td>\n      <td>...</td>\n      <td>-81</td>\n      <td>4.467</td>\n      <td>0.064</td>\n      <td>-0.096</td>\n      <td>0.927</td>\n      <td>0.105</td>\n      <td>-0.061</td>\n      <td>291.93423</td>\n      <td>48.141651</td>\n      <td>15.347</td>\n    </tr>\n    <tr>\n      <th>1</th>\n      <td>0</td>\n      <td>1</td>\n      <td>0</td>\n      <td>0</td>\n      <td>19.899140</td>\n      <td>1.490000e-05</td>\n      <td>-1.490000e-05</td>\n      <td>175.850252</td>\n      <td>0.000581</td>\n      <td>-0.000581</td>\n      <td>...</td>\n      <td>-176</td>\n      <td>4.544</td>\n      <td>0.044</td>\n      <td>-0.176</td>\n      <td>0.868</td>\n      <td>0.233</td>\n      <td>-0.078</td>\n      <td>297.00482</td>\n      <td>48.134129</td>\n      <td>15.436</td>\n    </tr>\n    <tr>\n      <th>2</th>\n      <td>0</td>\n      <td>1</td>\n      <td>0</td>\n      <td>0</td>\n      <td>1.736952</td>\n      <td>2.630000e-07</td>\n      <td>-2.630000e-07</td>\n      <td>170.307565</td>\n      <td>0.000115</td>\n      <td>-0.000115</td>\n      <td>...</td>\n      <td>-174</td>\n      <td>4.564</td>\n      <td>0.053</td>\n      <td>-0.168</td>\n      <td>0.791</td>\n      <td>0.201</td>\n      <td>-0.067</td>\n      <td>285.53461</td>\n      <td>48.285210</td>\n      <td>15.597</td>\n    </tr>\n    <tr>\n      <th>3</th>\n      <td>0</td>\n      <td>0</td>\n      <td>0</td>\n      <td>0</td>\n      <td>2.525592</td>\n      <td>3.760000e-06</td>\n      <td>-3.760000e-06</td>\n      <td>171.595550</td>\n      <td>0.001130</td>\n      <td>-0.001130</td>\n      <td>...</td>\n      <td>-211</td>\n      <td>4.438</td>\n      <td>0.070</td>\n      <td>-0.210</td>\n      <td>1.046</td>\n      <td>0.334</td>\n      <td>-0.133</td>\n      <td>288.75488</td>\n      <td>48.226200</td>\n      <td>15.509</td>\n    </tr>\n    <tr>\n      <th>4</th>\n      <td>0</td>\n      <td>0</td>\n      <td>0</td>\n      <td>0</td>\n      <td>4.134435</td>\n      <td>1.050000e-05</td>\n      <td>-1.050000e-05</td>\n      <td>172.979370</td>\n      <td>0.001900</td>\n      <td>-0.001900</td>\n      <td>...</td>\n      <td>-232</td>\n      <td>4.486</td>\n      <td>0.054</td>\n      <td>-0.229</td>\n      <td>0.972</td>\n      <td>0.315</td>\n      <td>-0.105</td>\n      <td>296.28613</td>\n      <td>48.224670</td>\n      <td>15.714</td>\n    </tr>\n  </tbody>\n</table>\n<p>5 rows × 40 columns</p>\n</div>"
     },
     "metadata": {},
     "execution_count": 4
    }
   ],
   "source": [
    "# Set features. This will also be used as your x values.\n",
    "X = df.drop(\"koi_disposition\", axis=1)\n",
    "X.head()"
   ]
  },
  {
   "cell_type": "markdown",
   "metadata": {},
   "source": [
    "# Create a Train Test Split\n",
    "\n",
    "Use `koi_disposition` for the y values"
   ]
  },
  {
   "cell_type": "code",
   "execution_count": 5,
   "metadata": {},
   "outputs": [
    {
     "output_type": "execute_result",
     "data": {
      "text/plain": [
       "array([1, 2, 2, ..., 0, 2, 2])"
      ]
     },
     "metadata": {},
     "execution_count": 5
    }
   ],
   "source": [
    "from sklearn.preprocessing import LabelEncoder\n",
    "label_encoder = LabelEncoder()\n",
    "\n",
    "label_encoder.fit(df[\"koi_disposition\"])\n",
    "label_encoder.classes_\n",
    "\n",
    "y = label_encoder.transform(df[\"koi_disposition\"])\n",
    "y"
   ]
  },
  {
   "cell_type": "code",
   "execution_count": 6,
   "metadata": {},
   "outputs": [
    {
     "output_type": "execute_result",
     "data": {
      "text/plain": [
       "      koi_fpflag_nt  koi_fpflag_ss  koi_fpflag_co  koi_fpflag_ec  koi_period  \\\n",
       "5784              0              1              0              0    0.835315   \n",
       "1687              0              0              0              0   13.323541   \n",
       "5198              0              1              0              0  395.073330   \n",
       "6648              0              1              0              0    2.525387   \n",
       "3589              0              1              0              0  286.175588   \n",
       "\n",
       "      koi_period_err1  koi_period_err2  koi_time0bk  koi_time0bk_err1  \\\n",
       "5784     6.700000e-08    -6.700000e-08   131.957082          0.000067   \n",
       "1687     9.750000e-05    -9.750000e-05   134.036710          0.006300   \n",
       "5198     1.044000e-02    -1.044000e-02   244.485800          0.022700   \n",
       "6648     2.020000e-06    -2.020000e-06   133.913493          0.000990   \n",
       "3589     2.549000e-04    -2.549000e-04   314.101583          0.000475   \n",
       "\n",
       "      koi_time0bk_err2  ...  koi_steff_err2  koi_slogg  koi_slogg_err1  \\\n",
       "5784         -0.000067  ...            -150      4.584           0.072   \n",
       "1687         -0.006300  ...            -147      4.341           0.066   \n",
       "5198         -0.022700  ...             -98      0.679           0.030   \n",
       "6648         -0.000990  ...            -288      4.337           0.084   \n",
       "3589         -0.000475  ...            -195      4.471           0.067   \n",
       "\n",
       "      koi_slogg_err2  koi_srad  koi_srad_err1  koi_srad_err2         ra  \\\n",
       "5784          -0.054     0.690          0.074         -0.067  282.75241   \n",
       "1687          -0.114     1.218          0.203         -0.125  286.62576   \n",
       "5198          -0.030    98.380          3.247        -18.397  296.76535   \n",
       "6648          -0.210     1.233          0.397         -0.170  292.62149   \n",
       "3589          -0.202     0.946          0.287         -0.115  297.77277   \n",
       "\n",
       "            dec  koi_kepmag  \n",
       "5784  44.048721      15.314  \n",
       "1687  37.537300      12.867  \n",
       "5198  42.404987      13.544  \n",
       "6648  42.921970      14.340  \n",
       "3589  48.098110      15.138  \n",
       "\n",
       "[5 rows x 40 columns]"
      ],
      "text/html": "<div>\n<style scoped>\n    .dataframe tbody tr th:only-of-type {\n        vertical-align: middle;\n    }\n\n    .dataframe tbody tr th {\n        vertical-align: top;\n    }\n\n    .dataframe thead th {\n        text-align: right;\n    }\n</style>\n<table border=\"1\" class=\"dataframe\">\n  <thead>\n    <tr style=\"text-align: right;\">\n      <th></th>\n      <th>koi_fpflag_nt</th>\n      <th>koi_fpflag_ss</th>\n      <th>koi_fpflag_co</th>\n      <th>koi_fpflag_ec</th>\n      <th>koi_period</th>\n      <th>koi_period_err1</th>\n      <th>koi_period_err2</th>\n      <th>koi_time0bk</th>\n      <th>koi_time0bk_err1</th>\n      <th>koi_time0bk_err2</th>\n      <th>...</th>\n      <th>koi_steff_err2</th>\n      <th>koi_slogg</th>\n      <th>koi_slogg_err1</th>\n      <th>koi_slogg_err2</th>\n      <th>koi_srad</th>\n      <th>koi_srad_err1</th>\n      <th>koi_srad_err2</th>\n      <th>ra</th>\n      <th>dec</th>\n      <th>koi_kepmag</th>\n    </tr>\n  </thead>\n  <tbody>\n    <tr>\n      <th>5784</th>\n      <td>0</td>\n      <td>1</td>\n      <td>0</td>\n      <td>0</td>\n      <td>0.835315</td>\n      <td>6.700000e-08</td>\n      <td>-6.700000e-08</td>\n      <td>131.957082</td>\n      <td>0.000067</td>\n      <td>-0.000067</td>\n      <td>...</td>\n      <td>-150</td>\n      <td>4.584</td>\n      <td>0.072</td>\n      <td>-0.054</td>\n      <td>0.690</td>\n      <td>0.074</td>\n      <td>-0.067</td>\n      <td>282.75241</td>\n      <td>44.048721</td>\n      <td>15.314</td>\n    </tr>\n    <tr>\n      <th>1687</th>\n      <td>0</td>\n      <td>0</td>\n      <td>0</td>\n      <td>0</td>\n      <td>13.323541</td>\n      <td>9.750000e-05</td>\n      <td>-9.750000e-05</td>\n      <td>134.036710</td>\n      <td>0.006300</td>\n      <td>-0.006300</td>\n      <td>...</td>\n      <td>-147</td>\n      <td>4.341</td>\n      <td>0.066</td>\n      <td>-0.114</td>\n      <td>1.218</td>\n      <td>0.203</td>\n      <td>-0.125</td>\n      <td>286.62576</td>\n      <td>37.537300</td>\n      <td>12.867</td>\n    </tr>\n    <tr>\n      <th>5198</th>\n      <td>0</td>\n      <td>1</td>\n      <td>0</td>\n      <td>0</td>\n      <td>395.073330</td>\n      <td>1.044000e-02</td>\n      <td>-1.044000e-02</td>\n      <td>244.485800</td>\n      <td>0.022700</td>\n      <td>-0.022700</td>\n      <td>...</td>\n      <td>-98</td>\n      <td>0.679</td>\n      <td>0.030</td>\n      <td>-0.030</td>\n      <td>98.380</td>\n      <td>3.247</td>\n      <td>-18.397</td>\n      <td>296.76535</td>\n      <td>42.404987</td>\n      <td>13.544</td>\n    </tr>\n    <tr>\n      <th>6648</th>\n      <td>0</td>\n      <td>1</td>\n      <td>0</td>\n      <td>0</td>\n      <td>2.525387</td>\n      <td>2.020000e-06</td>\n      <td>-2.020000e-06</td>\n      <td>133.913493</td>\n      <td>0.000990</td>\n      <td>-0.000990</td>\n      <td>...</td>\n      <td>-288</td>\n      <td>4.337</td>\n      <td>0.084</td>\n      <td>-0.210</td>\n      <td>1.233</td>\n      <td>0.397</td>\n      <td>-0.170</td>\n      <td>292.62149</td>\n      <td>42.921970</td>\n      <td>14.340</td>\n    </tr>\n    <tr>\n      <th>3589</th>\n      <td>0</td>\n      <td>1</td>\n      <td>0</td>\n      <td>0</td>\n      <td>286.175588</td>\n      <td>2.549000e-04</td>\n      <td>-2.549000e-04</td>\n      <td>314.101583</td>\n      <td>0.000475</td>\n      <td>-0.000475</td>\n      <td>...</td>\n      <td>-195</td>\n      <td>4.471</td>\n      <td>0.067</td>\n      <td>-0.202</td>\n      <td>0.946</td>\n      <td>0.287</td>\n      <td>-0.115</td>\n      <td>297.77277</td>\n      <td>48.098110</td>\n      <td>15.138</td>\n    </tr>\n  </tbody>\n</table>\n<p>5 rows × 40 columns</p>\n</div>"
     },
     "metadata": {},
     "execution_count": 6
    }
   ],
   "source": [
    "# Split data into training and testing\n",
    "from sklearn.model_selection import train_test_split\n",
    "X_train, X_test, y_train, y_test = train_test_split(X,y)\n",
    "X_train.head()"
   ]
  },
  {
   "cell_type": "markdown",
   "metadata": {},
   "source": [
    "# Pre-processing\n",
    "\n",
    "Scale the data using the MinMaxScaler and perform some feature selection"
   ]
  },
  {
   "cell_type": "markdown",
   "metadata": {},
   "source": [
    "# Train the Model\n",
    "\n"
   ]
  },
  {
   "cell_type": "code",
   "execution_count": 7,
   "metadata": {},
   "outputs": [
    {
     "output_type": "execute_result",
     "data": {
      "text/plain": [
       "RandomForestClassifier(bootstrap=True, ccp_alpha=0.0, class_weight=None,\n",
       "                       criterion='gini', max_depth=None, max_features='auto',\n",
       "                       max_leaf_nodes=None, max_samples=None,\n",
       "                       min_impurity_decrease=0.0, min_impurity_split=None,\n",
       "                       min_samples_leaf=1, min_samples_split=2,\n",
       "                       min_weight_fraction_leaf=0.0, n_estimators=100,\n",
       "                       n_jobs=None, oob_score=False, random_state=1, verbose=0,\n",
       "                       warm_start=False)"
      ]
     },
     "metadata": {},
     "execution_count": 7
    }
   ],
   "source": [
    "from sklearn.ensemble import RandomForestClassifier\n",
    "rf = RandomForestClassifier(random_state=1)\n",
    "rf.fit(X_train,y_train)"
   ]
  },
  {
   "cell_type": "code",
   "execution_count": 8,
   "metadata": {},
   "outputs": [
    {
     "output_type": "execute_result",
     "data": {
      "text/plain": [
       "array([1, 2, 1, ..., 1, 0, 2])"
      ]
     },
     "metadata": {},
     "execution_count": 8
    }
   ],
   "source": [
    "import numpy as np\n",
    "np.array(y_test)"
   ]
  },
  {
   "cell_type": "code",
   "execution_count": 9,
   "metadata": {},
   "outputs": [
    {
     "output_type": "stream",
     "name": "stdout",
     "text": [
      "Predictions: 0, Actual: 1\nPredictions: 2, Actual: 2\nPredictions: 0, Actual: 1\nPredictions: 0, Actual: 0\nPredictions: 1, Actual: 1\n"
     ]
    }
   ],
   "source": [
    "predictions = rf.predict(X_test)\n",
    "\n",
    "for x in range(0,5,1):\n",
    "    print(f\"Predictions: {predictions[x]}, Actual: {y_test[x]}\")"
   ]
  },
  {
   "cell_type": "code",
   "execution_count": 13,
   "metadata": {},
   "outputs": [
    {
     "output_type": "stream",
     "name": "stdout",
     "text": [
      "Training Data Score: 0.8455082967766546\n",
      "Testing Data Score: 0.8415331807780321\n"
     ]
    }
   ],
   "source": [
    "print(f\"Training Data Score: {svm_model.score(X_train_scaled, y_train)}\")\n",
    "print(f\"Testing Data Score: {svm_model.score(X_test_scaled, y_test)}\")"
   ]
  },
  {
   "cell_type": "code",
   "execution_count": 14,
   "metadata": {},
   "outputs": [
    {
     "output_type": "stream",
     "name": "stdout",
     "text": [
      "                precision    recall  f1-score   support\n\n     CONFIRMED       0.70      0.62      0.66       411\nFALSE POSITIVE       0.71      0.76      0.73       484\n     CANDIDATE       0.98      1.00      0.99       853\n\n      accuracy                           0.84      1748\n     macro avg       0.80      0.79      0.79      1748\n  weighted avg       0.84      0.84      0.84      1748\n\n"
     ]
    }
   ],
   "source": [
    "# Calculate classification report\n",
    "from sklearn.metrics import classification_report\n",
    "print(classification_report(y_test, predictions,\n",
    "                           target_names =[\"CONFIRMED\", \"FALSE POSITIVE\", \"CANDIDATE\"]))"
   ]
  },
  {
   "cell_type": "markdown",
   "metadata": {},
   "source": [
    "# Hyperparameter Tuning\n",
    "\n",
    "Use `GridSearchCV` to tune the model's parameters"
   ]
  },
  {
   "cell_type": "code",
   "execution_count": 15,
   "metadata": {},
   "outputs": [
    {
     "output_type": "execute_result",
     "data": {
      "text/plain": [
       "dict_keys(['C', 'break_ties', 'cache_size', 'class_weight', 'coef0', 'decision_function_shape', 'degree', 'gamma', 'kernel', 'max_iter', 'probability', 'random_state', 'shrinking', 'tol', 'verbose'])"
      ]
     },
     "metadata": {},
     "execution_count": 15
    }
   ],
   "source": [
    "# Create the GridSearchCV model\n",
    "from sklearn.model_selection import GridSearchCV\n",
    "\n",
    "param_grid = {\n",
    "    'kernel':['linear', 'rbf'],\n",
    "    'C': [1, 5, 10, 50],\n",
    "    'gamma': [0.0001, 0.0005, 0.001, 0.01]}\n",
    "grid_SVM = GridSearchCV(svm_model, param_grid, verbose=3)\n",
    "svm_model.get_params().keys()"
   ]
  },
  {
   "cell_type": "code",
   "execution_count": 16,
   "metadata": {
    "tags": [
     "outputPrepend"
    ]
   },
   "outputs": [
    {
     "output_type": "stream",
     "name": "stdout",
     "text": [
      "ma=0.0005, kernel=rbf, score=0.506, total=   2.9s\n",
      "[CV] C=1, gamma=0.001, kernel=linear .................................\n",
      "[CV] ..... C=1, gamma=0.001, kernel=linear, score=0.858, total=   0.6s\n",
      "[CV] C=1, gamma=0.001, kernel=linear .................................\n",
      "[CV] ..... C=1, gamma=0.001, kernel=linear, score=0.833, total=   0.7s\n",
      "[CV] C=1, gamma=0.001, kernel=linear .................................\n",
      "[CV] ..... C=1, gamma=0.001, kernel=linear, score=0.855, total=   0.7s\n",
      "[CV] C=1, gamma=0.001, kernel=linear .................................\n",
      "[CV] ..... C=1, gamma=0.001, kernel=linear, score=0.832, total=   0.6s\n",
      "[CV] C=1, gamma=0.001, kernel=linear .................................\n",
      "[CV] ..... C=1, gamma=0.001, kernel=linear, score=0.835, total=   0.7s\n",
      "[CV] C=1, gamma=0.001, kernel=rbf ....................................\n",
      "[CV] ........ C=1, gamma=0.001, kernel=rbf, score=0.505, total=   3.4s\n",
      "[CV] C=1, gamma=0.001, kernel=rbf ....................................\n",
      "[CV] ........ C=1, gamma=0.001, kernel=rbf, score=0.506, total=   2.7s\n",
      "[CV] C=1, gamma=0.001, kernel=rbf ....................................\n",
      "[CV] ........ C=1, gamma=0.001, kernel=rbf, score=0.505, total=   3.2s\n",
      "[CV] C=1, gamma=0.001, kernel=rbf ....................................\n",
      "[CV] ........ C=1, gamma=0.001, kernel=rbf, score=0.506, total=   3.1s\n",
      "[CV] C=1, gamma=0.001, kernel=rbf ....................................\n",
      "[CV] ........ C=1, gamma=0.001, kernel=rbf, score=0.506, total=   3.2s\n",
      "[CV] C=1, gamma=0.01, kernel=linear ..................................\n",
      "[CV] ...... C=1, gamma=0.01, kernel=linear, score=0.858, total=   0.7s\n",
      "[CV] C=1, gamma=0.01, kernel=linear ..................................\n",
      "[CV] ...... C=1, gamma=0.01, kernel=linear, score=0.833, total=   0.8s\n",
      "[CV] C=1, gamma=0.01, kernel=linear ..................................\n",
      "[CV] ...... C=1, gamma=0.01, kernel=linear, score=0.855, total=   0.8s\n",
      "[CV] C=1, gamma=0.01, kernel=linear ..................................\n",
      "[CV] ...... C=1, gamma=0.01, kernel=linear, score=0.832, total=   0.8s\n",
      "[CV] C=1, gamma=0.01, kernel=linear ..................................\n",
      "[CV] ...... C=1, gamma=0.01, kernel=linear, score=0.835, total=   0.8s\n",
      "[CV] C=1, gamma=0.01, kernel=rbf .....................................\n",
      "[CV] ......... C=1, gamma=0.01, kernel=rbf, score=0.780, total=   1.8s\n",
      "[CV] C=1, gamma=0.01, kernel=rbf .....................................\n",
      "[CV] ......... C=1, gamma=0.01, kernel=rbf, score=0.760, total=   2.2s\n",
      "[CV] C=1, gamma=0.01, kernel=rbf .....................................\n",
      "[CV] ......... C=1, gamma=0.01, kernel=rbf, score=0.765, total=   1.8s\n",
      "[CV] C=1, gamma=0.01, kernel=rbf .....................................\n",
      "[CV] ......... C=1, gamma=0.01, kernel=rbf, score=0.761, total=   1.6s\n",
      "[CV] C=1, gamma=0.01, kernel=rbf .....................................\n",
      "[CV] ......... C=1, gamma=0.01, kernel=rbf, score=0.774, total=   1.5s\n",
      "[CV] C=5, gamma=0.0001, kernel=linear ................................\n",
      "[CV] .... C=5, gamma=0.0001, kernel=linear, score=0.875, total=   0.9s\n",
      "[CV] C=5, gamma=0.0001, kernel=linear ................................\n",
      "[CV] .... C=5, gamma=0.0001, kernel=linear, score=0.851, total=   0.8s\n",
      "[CV] C=5, gamma=0.0001, kernel=linear ................................\n",
      "[CV] .... C=5, gamma=0.0001, kernel=linear, score=0.872, total=   0.9s\n",
      "[CV] C=5, gamma=0.0001, kernel=linear ................................\n",
      "[CV] .... C=5, gamma=0.0001, kernel=linear, score=0.850, total=   0.7s\n",
      "[CV] C=5, gamma=0.0001, kernel=linear ................................\n",
      "[CV] .... C=5, gamma=0.0001, kernel=linear, score=0.861, total=   0.7s\n",
      "[CV] C=5, gamma=0.0001, kernel=rbf ...................................\n",
      "[CV] ....... C=5, gamma=0.0001, kernel=rbf, score=0.505, total=   3.0s\n",
      "[CV] C=5, gamma=0.0001, kernel=rbf ...................................\n",
      "[CV] ....... C=5, gamma=0.0001, kernel=rbf, score=0.506, total=   2.8s\n",
      "[CV] C=5, gamma=0.0001, kernel=rbf ...................................\n",
      "[CV] ....... C=5, gamma=0.0001, kernel=rbf, score=0.505, total=   2.7s\n",
      "[CV] C=5, gamma=0.0001, kernel=rbf ...................................\n",
      "[CV] ....... C=5, gamma=0.0001, kernel=rbf, score=0.506, total=   3.2s\n",
      "[CV] C=5, gamma=0.0001, kernel=rbf ...................................\n",
      "[CV] ....... C=5, gamma=0.0001, kernel=rbf, score=0.506, total=   2.7s\n",
      "[CV] C=5, gamma=0.0005, kernel=linear ................................\n",
      "[CV] .... C=5, gamma=0.0005, kernel=linear, score=0.875, total=   0.8s\n",
      "[CV] C=5, gamma=0.0005, kernel=linear ................................\n",
      "[CV] .... C=5, gamma=0.0005, kernel=linear, score=0.851, total=   0.7s\n",
      "[CV] C=5, gamma=0.0005, kernel=linear ................................\n",
      "[CV] .... C=5, gamma=0.0005, kernel=linear, score=0.872, total=   1.0s\n",
      "[CV] C=5, gamma=0.0005, kernel=linear ................................\n",
      "[CV] .... C=5, gamma=0.0005, kernel=linear, score=0.850, total=   0.6s\n",
      "[CV] C=5, gamma=0.0005, kernel=linear ................................\n",
      "[CV] .... C=5, gamma=0.0005, kernel=linear, score=0.861, total=   0.6s\n",
      "[CV] C=5, gamma=0.0005, kernel=rbf ...................................\n",
      "[CV] ....... C=5, gamma=0.0005, kernel=rbf, score=0.742, total=   2.5s\n",
      "[CV] C=5, gamma=0.0005, kernel=rbf ...................................\n",
      "[CV] ....... C=5, gamma=0.0005, kernel=rbf, score=0.733, total=   3.4s\n",
      "[CV] C=5, gamma=0.0005, kernel=rbf ...................................\n",
      "[CV] ....... C=5, gamma=0.0005, kernel=rbf, score=0.743, total=   3.1s\n",
      "[CV] C=5, gamma=0.0005, kernel=rbf ...................................\n",
      "[CV] ....... C=5, gamma=0.0005, kernel=rbf, score=0.735, total=   3.4s\n",
      "[CV] C=5, gamma=0.0005, kernel=rbf ...................................\n",
      "[CV] ....... C=5, gamma=0.0005, kernel=rbf, score=0.738, total=   3.2s\n",
      "[CV] C=5, gamma=0.001, kernel=linear .................................\n",
      "[CV] ..... C=5, gamma=0.001, kernel=linear, score=0.875, total=   0.7s\n",
      "[CV] C=5, gamma=0.001, kernel=linear .................................\n",
      "[CV] ..... C=5, gamma=0.001, kernel=linear, score=0.851, total=   0.9s\n",
      "[CV] C=5, gamma=0.001, kernel=linear .................................\n",
      "[CV] ..... C=5, gamma=0.001, kernel=linear, score=0.872, total=   0.8s\n",
      "[CV] C=5, gamma=0.001, kernel=linear .................................\n",
      "[CV] ..... C=5, gamma=0.001, kernel=linear, score=0.850, total=   0.8s\n",
      "[CV] C=5, gamma=0.001, kernel=linear .................................\n",
      "[CV] ..... C=5, gamma=0.001, kernel=linear, score=0.861, total=   0.7s\n",
      "[CV] C=5, gamma=0.001, kernel=rbf ....................................\n",
      "[CV] ........ C=5, gamma=0.001, kernel=rbf, score=0.742, total=   1.9s\n",
      "[CV] C=5, gamma=0.001, kernel=rbf ....................................\n",
      "[CV] ........ C=5, gamma=0.001, kernel=rbf, score=0.733, total=   1.8s\n",
      "[CV] C=5, gamma=0.001, kernel=rbf ....................................\n",
      "[CV] ........ C=5, gamma=0.001, kernel=rbf, score=0.744, total=   1.9s\n",
      "[CV] C=5, gamma=0.001, kernel=rbf ....................................\n",
      "[CV] ........ C=5, gamma=0.001, kernel=rbf, score=0.736, total=   1.9s\n",
      "[CV] C=5, gamma=0.001, kernel=rbf ....................................\n",
      "[CV] ........ C=5, gamma=0.001, kernel=rbf, score=0.738, total=   1.8s\n",
      "[CV] C=5, gamma=0.01, kernel=linear ..................................\n",
      "[CV] ...... C=5, gamma=0.01, kernel=linear, score=0.875, total=   0.6s\n",
      "[CV] C=5, gamma=0.01, kernel=linear ..................................\n",
      "[CV] ...... C=5, gamma=0.01, kernel=linear, score=0.851, total=   0.6s\n",
      "[CV] C=5, gamma=0.01, kernel=linear ..................................\n",
      "[CV] ...... C=5, gamma=0.01, kernel=linear, score=0.872, total=   0.6s\n",
      "[CV] C=5, gamma=0.01, kernel=linear ..................................\n",
      "[CV] ...... C=5, gamma=0.01, kernel=linear, score=0.850, total=   0.5s\n",
      "[CV] C=5, gamma=0.01, kernel=linear ..................................\n",
      "[CV] ...... C=5, gamma=0.01, kernel=linear, score=0.861, total=   0.6s\n",
      "[CV] C=5, gamma=0.01, kernel=rbf .....................................\n",
      "[CV] ......... C=5, gamma=0.01, kernel=rbf, score=0.841, total=   1.0s\n",
      "[CV] C=5, gamma=0.01, kernel=rbf .....................................\n",
      "[CV] ......... C=5, gamma=0.01, kernel=rbf, score=0.829, total=   1.0s\n",
      "[CV] C=5, gamma=0.01, kernel=rbf .....................................\n",
      "[CV] ......... C=5, gamma=0.01, kernel=rbf, score=0.835, total=   1.0s\n",
      "[CV] C=5, gamma=0.01, kernel=rbf .....................................\n",
      "[CV] ......... C=5, gamma=0.01, kernel=rbf, score=0.812, total=   1.0s\n",
      "[CV] C=5, gamma=0.01, kernel=rbf .....................................\n",
      "[CV] ......... C=5, gamma=0.01, kernel=rbf, score=0.820, total=   1.0s\n",
      "[CV] C=10, gamma=0.0001, kernel=linear ...............................\n",
      "[CV] ... C=10, gamma=0.0001, kernel=linear, score=0.891, total=   0.6s\n",
      "[CV] C=10, gamma=0.0001, kernel=linear ...............................\n",
      "[CV] ... C=10, gamma=0.0001, kernel=linear, score=0.863, total=   0.6s\n",
      "[CV] C=10, gamma=0.0001, kernel=linear ...............................\n",
      "[CV] ... C=10, gamma=0.0001, kernel=linear, score=0.882, total=   0.6s\n",
      "[CV] C=10, gamma=0.0001, kernel=linear ...............................\n",
      "[CV] ... C=10, gamma=0.0001, kernel=linear, score=0.853, total=   0.5s\n",
      "[CV] C=10, gamma=0.0001, kernel=linear ...............................\n",
      "[CV] ... C=10, gamma=0.0001, kernel=linear, score=0.868, total=   0.6s\n",
      "[CV] C=10, gamma=0.0001, kernel=rbf ..................................\n",
      "[CV] ...... C=10, gamma=0.0001, kernel=rbf, score=0.505, total=   2.4s\n",
      "[CV] C=10, gamma=0.0001, kernel=rbf ..................................\n",
      "[CV] ...... C=10, gamma=0.0001, kernel=rbf, score=0.506, total=   2.5s\n",
      "[CV] C=10, gamma=0.0001, kernel=rbf ..................................\n",
      "[CV] ...... C=10, gamma=0.0001, kernel=rbf, score=0.505, total=   2.5s\n",
      "[CV] C=10, gamma=0.0001, kernel=rbf ..................................\n",
      "[CV] ...... C=10, gamma=0.0001, kernel=rbf, score=0.506, total=   2.5s\n",
      "[CV] C=10, gamma=0.0001, kernel=rbf ..................................\n",
      "[CV] ...... C=10, gamma=0.0001, kernel=rbf, score=0.506, total=   2.5s\n",
      "[CV] C=10, gamma=0.0005, kernel=linear ...............................\n",
      "[CV] ... C=10, gamma=0.0005, kernel=linear, score=0.891, total=   0.7s\n",
      "[CV] C=10, gamma=0.0005, kernel=linear ...............................\n",
      "[CV] ... C=10, gamma=0.0005, kernel=linear, score=0.863, total=   0.6s\n",
      "[CV] C=10, gamma=0.0005, kernel=linear ...............................\n",
      "[CV] ... C=10, gamma=0.0005, kernel=linear, score=0.882, total=   0.9s\n",
      "[CV] C=10, gamma=0.0005, kernel=linear ...............................\n",
      "[CV] ... C=10, gamma=0.0005, kernel=linear, score=0.853, total=   0.5s\n",
      "[CV] C=10, gamma=0.0005, kernel=linear ...............................\n",
      "[CV] ... C=10, gamma=0.0005, kernel=linear, score=0.868, total=   0.6s\n",
      "[CV] C=10, gamma=0.0005, kernel=rbf ..................................\n",
      "[CV] ...... C=10, gamma=0.0005, kernel=rbf, score=0.742, total=   1.9s\n",
      "[CV] C=10, gamma=0.0005, kernel=rbf ..................................\n",
      "[CV] ...... C=10, gamma=0.0005, kernel=rbf, score=0.733, total=   1.8s\n",
      "[CV] C=10, gamma=0.0005, kernel=rbf ..................................\n",
      "[CV] ...... C=10, gamma=0.0005, kernel=rbf, score=0.744, total=   1.8s\n",
      "[CV] C=10, gamma=0.0005, kernel=rbf ..................................\n",
      "[CV] ...... C=10, gamma=0.0005, kernel=rbf, score=0.736, total=   1.8s\n",
      "[CV] C=10, gamma=0.0005, kernel=rbf ..................................\n",
      "[CV] ...... C=10, gamma=0.0005, kernel=rbf, score=0.738, total=   1.9s\n",
      "[CV] C=10, gamma=0.001, kernel=linear ................................\n",
      "[CV] .... C=10, gamma=0.001, kernel=linear, score=0.891, total=   0.6s\n",
      "[CV] C=10, gamma=0.001, kernel=linear ................................\n",
      "[CV] .... C=10, gamma=0.001, kernel=linear, score=0.863, total=   0.6s\n",
      "[CV] C=10, gamma=0.001, kernel=linear ................................\n",
      "[CV] .... C=10, gamma=0.001, kernel=linear, score=0.882, total=   0.7s\n",
      "[CV] C=10, gamma=0.001, kernel=linear ................................\n",
      "[CV] .... C=10, gamma=0.001, kernel=linear, score=0.853, total=   0.5s\n",
      "[CV] C=10, gamma=0.001, kernel=linear ................................\n",
      "[CV] .... C=10, gamma=0.001, kernel=linear, score=0.868, total=   0.6s\n",
      "[CV] C=10, gamma=0.001, kernel=rbf ...................................\n",
      "[CV] ....... C=10, gamma=0.001, kernel=rbf, score=0.769, total=   1.4s\n",
      "[CV] C=10, gamma=0.001, kernel=rbf ...................................\n",
      "[CV] ....... C=10, gamma=0.001, kernel=rbf, score=0.761, total=   1.4s\n",
      "[CV] C=10, gamma=0.001, kernel=rbf ...................................\n",
      "[CV] ....... C=10, gamma=0.001, kernel=rbf, score=0.765, total=   1.5s\n",
      "[CV] C=10, gamma=0.001, kernel=rbf ...................................\n",
      "[CV] ....... C=10, gamma=0.001, kernel=rbf, score=0.760, total=   1.5s\n",
      "[CV] C=10, gamma=0.001, kernel=rbf ...................................\n",
      "[CV] ....... C=10, gamma=0.001, kernel=rbf, score=0.774, total=   1.5s\n",
      "[CV] C=10, gamma=0.01, kernel=linear .................................\n",
      "[CV] ..... C=10, gamma=0.01, kernel=linear, score=0.891, total=   0.6s\n",
      "[CV] C=10, gamma=0.01, kernel=linear .................................\n",
      "[CV] ..... C=10, gamma=0.01, kernel=linear, score=0.863, total=   0.6s\n",
      "[CV] C=10, gamma=0.01, kernel=linear .................................\n",
      "[CV] ..... C=10, gamma=0.01, kernel=linear, score=0.882, total=   0.6s\n",
      "[CV] C=10, gamma=0.01, kernel=linear .................................\n",
      "[CV] ..... C=10, gamma=0.01, kernel=linear, score=0.853, total=   0.5s\n",
      "[CV] C=10, gamma=0.01, kernel=linear .................................\n",
      "[CV] ..... C=10, gamma=0.01, kernel=linear, score=0.868, total=   0.6s\n",
      "[CV] C=10, gamma=0.01, kernel=rbf ....................................\n",
      "[CV] ........ C=10, gamma=0.01, kernel=rbf, score=0.834, total=   0.9s\n",
      "[CV] C=10, gamma=0.01, kernel=rbf ....................................\n",
      "[CV] ........ C=10, gamma=0.01, kernel=rbf, score=0.818, total=   0.9s\n",
      "[CV] C=10, gamma=0.01, kernel=rbf ....................................\n",
      "[CV] ........ C=10, gamma=0.01, kernel=rbf, score=0.843, total=   0.9s\n",
      "[CV] C=10, gamma=0.01, kernel=rbf ....................................\n",
      "[CV] ........ C=10, gamma=0.01, kernel=rbf, score=0.810, total=   0.9s\n",
      "[CV] C=10, gamma=0.01, kernel=rbf ....................................\n",
      "[CV] ........ C=10, gamma=0.01, kernel=rbf, score=0.823, total=   0.9s\n",
      "[CV] C=50, gamma=0.0001, kernel=linear ...............................\n",
      "[CV] ... C=50, gamma=0.0001, kernel=linear, score=0.896, total=   0.8s\n",
      "[CV] C=50, gamma=0.0001, kernel=linear ...............................\n",
      "[CV] ... C=50, gamma=0.0001, kernel=linear, score=0.879, total=   0.8s\n",
      "[CV] C=50, gamma=0.0001, kernel=linear ...............................\n",
      "[CV] ... C=50, gamma=0.0001, kernel=linear, score=0.891, total=   0.8s\n",
      "[CV] C=50, gamma=0.0001, kernel=linear ...............................\n",
      "[CV] ... C=50, gamma=0.0001, kernel=linear, score=0.872, total=   0.6s\n",
      "[CV] C=50, gamma=0.0001, kernel=linear ...............................\n",
      "[CV] ... C=50, gamma=0.0001, kernel=linear, score=0.873, total=   0.8s\n",
      "[CV] C=50, gamma=0.0001, kernel=rbf ..................................\n",
      "[CV] ...... C=50, gamma=0.0001, kernel=rbf, score=0.742, total=   1.8s\n",
      "[CV] C=50, gamma=0.0001, kernel=rbf ..................................\n",
      "[CV] ...... C=50, gamma=0.0001, kernel=rbf, score=0.733, total=   1.8s\n",
      "[CV] C=50, gamma=0.0001, kernel=rbf ..................................\n",
      "[CV] ...... C=50, gamma=0.0001, kernel=rbf, score=0.744, total=   1.9s\n",
      "[CV] C=50, gamma=0.0001, kernel=rbf ..................................\n",
      "[CV] ...... C=50, gamma=0.0001, kernel=rbf, score=0.736, total=   1.8s\n",
      "[CV] C=50, gamma=0.0001, kernel=rbf ..................................\n",
      "[CV] ...... C=50, gamma=0.0001, kernel=rbf, score=0.738, total=   1.8s\n",
      "[CV] C=50, gamma=0.0005, kernel=linear ...............................\n",
      "[CV] ... C=50, gamma=0.0005, kernel=linear, score=0.896, total=   0.8s\n",
      "[CV] C=50, gamma=0.0005, kernel=linear ...............................\n",
      "[CV] ... C=50, gamma=0.0005, kernel=linear, score=0.879, total=   0.8s\n",
      "[CV] C=50, gamma=0.0005, kernel=linear ...............................\n",
      "[CV] ... C=50, gamma=0.0005, kernel=linear, score=0.891, total=   0.8s\n",
      "[CV] C=50, gamma=0.0005, kernel=linear ...............................\n",
      "[CV] ... C=50, gamma=0.0005, kernel=linear, score=0.872, total=   0.7s\n",
      "[CV] C=50, gamma=0.0005, kernel=linear ...............................\n",
      "[CV] ... C=50, gamma=0.0005, kernel=linear, score=0.873, total=   0.7s\n",
      "[CV] C=50, gamma=0.0005, kernel=rbf ..................................\n",
      "[CV] ...... C=50, gamma=0.0005, kernel=rbf, score=0.824, total=   1.1s\n",
      "[CV] C=50, gamma=0.0005, kernel=rbf ..................................\n",
      "[CV] ...... C=50, gamma=0.0005, kernel=rbf, score=0.821, total=   1.1s\n",
      "[CV] C=50, gamma=0.0005, kernel=rbf ..................................\n",
      "[CV] ...... C=50, gamma=0.0005, kernel=rbf, score=0.820, total=   1.1s\n",
      "[CV] C=50, gamma=0.0005, kernel=rbf ..................................\n",
      "[CV] ...... C=50, gamma=0.0005, kernel=rbf, score=0.801, total=   1.1s\n",
      "[CV] C=50, gamma=0.0005, kernel=rbf ..................................\n",
      "[CV] ...... C=50, gamma=0.0005, kernel=rbf, score=0.814, total=   1.2s\n",
      "[CV] C=50, gamma=0.001, kernel=linear ................................\n",
      "[CV] .... C=50, gamma=0.001, kernel=linear, score=0.896, total=   0.8s\n",
      "[CV] C=50, gamma=0.001, kernel=linear ................................\n",
      "[CV] .... C=50, gamma=0.001, kernel=linear, score=0.879, total=   0.8s\n",
      "[CV] C=50, gamma=0.001, kernel=linear ................................\n",
      "[CV] .... C=50, gamma=0.001, kernel=linear, score=0.891, total=   0.9s\n",
      "[CV] C=50, gamma=0.001, kernel=linear ................................\n",
      "[CV] .... C=50, gamma=0.001, kernel=linear, score=0.872, total=   0.6s\n",
      "[CV] C=50, gamma=0.001, kernel=linear ................................\n",
      "[CV] .... C=50, gamma=0.001, kernel=linear, score=0.873, total=   0.7s\n",
      "[CV] C=50, gamma=0.001, kernel=rbf ...................................\n",
      "[CV] ....... C=50, gamma=0.001, kernel=rbf, score=0.840, total=   1.1s\n",
      "[CV] C=50, gamma=0.001, kernel=rbf ...................................\n",
      "[CV] ....... C=50, gamma=0.001, kernel=rbf, score=0.830, total=   1.0s\n",
      "[CV] C=50, gamma=0.001, kernel=rbf ...................................\n",
      "[CV] ....... C=50, gamma=0.001, kernel=rbf, score=0.835, total=   1.1s\n",
      "[CV] C=50, gamma=0.001, kernel=rbf ...................................\n",
      "[CV] ....... C=50, gamma=0.001, kernel=rbf, score=0.812, total=   1.0s\n",
      "[CV] C=50, gamma=0.001, kernel=rbf ...................................\n",
      "[CV] ....... C=50, gamma=0.001, kernel=rbf, score=0.820, total=   1.1s\n",
      "[CV] C=50, gamma=0.01, kernel=linear .................................\n",
      "[CV] ..... C=50, gamma=0.01, kernel=linear, score=0.896, total=   0.8s\n",
      "[CV] C=50, gamma=0.01, kernel=linear .................................\n",
      "[CV] ..... C=50, gamma=0.01, kernel=linear, score=0.879, total=   0.8s\n",
      "[CV] C=50, gamma=0.01, kernel=linear .................................\n",
      "[CV] ..... C=50, gamma=0.01, kernel=linear, score=0.891, total=   0.9s\n",
      "[CV] C=50, gamma=0.01, kernel=linear .................................\n",
      "[CV] ..... C=50, gamma=0.01, kernel=linear, score=0.872, total=   0.6s\n",
      "[CV] C=50, gamma=0.01, kernel=linear .................................\n",
      "[CV] ..... C=50, gamma=0.01, kernel=linear, score=0.873, total=   0.8s\n",
      "[CV] C=50, gamma=0.01, kernel=rbf ....................................\n",
      "[CV] ........ C=50, gamma=0.01, kernel=rbf, score=0.858, total=   0.9s\n",
      "[CV] C=50, gamma=0.01, kernel=rbf ....................................\n",
      "[CV] ........ C=50, gamma=0.01, kernel=rbf, score=0.834, total=   0.9s\n",
      "[CV] C=50, gamma=0.01, kernel=rbf ....................................\n",
      "[CV] ........ C=50, gamma=0.01, kernel=rbf, score=0.855, total=   0.9s\n",
      "[CV] C=50, gamma=0.01, kernel=rbf ....................................\n",
      "[CV] ........ C=50, gamma=0.01, kernel=rbf, score=0.832, total=   0.9s\n",
      "[CV] C=50, gamma=0.01, kernel=rbf ....................................\n",
      "[CV] ........ C=50, gamma=0.01, kernel=rbf, score=0.836, total=   0.8s\n",
      "[Parallel(n_jobs=1)]: Done 160 out of 160 | elapsed:  3.5min finished\n"
     ]
    },
    {
     "output_type": "execute_result",
     "data": {
      "text/plain": [
       "GridSearchCV(cv=None, error_score=nan,\n",
       "             estimator=SVC(C=1.0, break_ties=False, cache_size=200,\n",
       "                           class_weight=None, coef0=0.0,\n",
       "                           decision_function_shape='ovr', degree=3,\n",
       "                           gamma='scale', kernel='linear', max_iter=-1,\n",
       "                           probability=False, random_state=None, shrinking=True,\n",
       "                           tol=0.001, verbose=False),\n",
       "             iid='deprecated', n_jobs=None,\n",
       "             param_grid={'C': [1, 5, 10, 50],\n",
       "                         'gamma': [0.0001, 0.0005, 0.001, 0.01],\n",
       "                         'kernel': ['linear', 'rbf']},\n",
       "             pre_dispatch='2*n_jobs', refit=True, return_train_score=False,\n",
       "             scoring=None, verbose=3)"
      ]
     },
     "metadata": {},
     "execution_count": 16
    }
   ],
   "source": [
    "# Train the model with GridSearch\n",
    "grid_SVM.fit(X_train_scaled, y_train)"
   ]
  },
  {
   "cell_type": "code",
   "execution_count": 17,
   "metadata": {},
   "outputs": [
    {
     "output_type": "stream",
     "name": "stdout",
     "text": [
      "{'C': 50, 'gamma': 0.0001, 'kernel': 'linear'}\n0.8823155822702828\n"
     ]
    }
   ],
   "source": [
    "print(grid_SVM.best_params_)\n",
    "print(grid_SVM.best_score_)"
   ]
  },
  {
   "cell_type": "code",
   "execution_count": 19,
   "metadata": {},
   "outputs": [
    {
     "output_type": "execute_result",
     "data": {
      "text/plain": [
       "array(['FALSE POSITIVE', 'CANDIDATE', 'FALSE POSITIVE', ..., 'CONFIRMED',\n",
       "       'CANDIDATE', 'CONFIRMED'], dtype=object)"
      ]
     },
     "metadata": {},
     "execution_count": 19
    }
   ],
   "source": [
    "\n",
    "# Make predictions with the hypertuned model\n",
    "predictions = grid_SVM.predict(X_test_scaled)\n",
    "predictions"
   ]
  },
  {
   "cell_type": "code",
   "execution_count": 20,
   "metadata": {},
   "outputs": [
    {
     "output_type": "stream",
     "name": "stdout",
     "text": [
      "                precision    recall  f1-score   support\n\n     CONFIRMED       0.81      0.67      0.73       411\nFALSE POSITIVE       0.76      0.85      0.80       484\n     CANDIDATE       0.98      1.00      0.99       853\n\n      accuracy                           0.88      1748\n     macro avg       0.85      0.84      0.84      1748\n  weighted avg       0.88      0.88      0.88      1748\n\n"
     ]
    }
   ],
   "source": [
    "# Calculate classification report\n",
    "from sklearn.metrics import classification_report\n",
    "print(classification_report(y_test, predictions,\n",
    "                           target_names =[\"CONFIRMED\", \"FALSE POSITIVE\", \"CANDIDATE\"]))"
   ]
  },
  {
   "cell_type": "markdown",
   "metadata": {},
   "source": [
    "# Save the Model"
   ]
  },
  {
   "cell_type": "code",
   "execution_count": 21,
   "metadata": {},
   "outputs": [
    {
     "output_type": "execute_result",
     "data": {
      "text/plain": [
       "['Models/exoplanet_svm.sav']"
      ]
     },
     "metadata": {},
     "execution_count": 21
    }
   ],
   "source": [
    "# save your model by updating \"your_name\" with your name\n",
    "# and \"your_model\" with your model variable\n",
    "# be sure to turn this in to BCS\n",
    "# if joblib fails to import, try running the command to install in terminal/git-bash\n",
    "import joblib\n",
    "filename = 'Models/exoplanet_svm.sav'\n",
    "joblib.dump(grid_SVM, filename)"
   ]
  },
  {
   "cell_type": "code",
   "execution_count": null,
   "metadata": {},
   "outputs": [],
   "source": []
  }
 ],
 "metadata": {
  "kernel_info": {
   "name": "dev"
  },
  "kernelspec": {
   "name": "python3",
   "display_name": "Python 3.7.6 64-bit (conda)",
   "metadata": {
    "interpreter": {
     "hash": "4b73675c4a805bc9f16e2a00060b3eed1b72f4592486cdaf60047931cfc10349"
    }
   }
  },
  "language_info": {
   "codemirror_mode": {
    "name": "ipython",
    "version": 3
   },
   "file_extension": ".py",
   "mimetype": "text/x-python",
   "name": "python",
   "nbconvert_exporter": "python",
   "pygments_lexer": "ipython3",
   "version": "3.7.6-final"
  },
  "nteract": {
   "version": "0.12.3"
  }
 },
 "nbformat": 4,
 "nbformat_minor": 2
}